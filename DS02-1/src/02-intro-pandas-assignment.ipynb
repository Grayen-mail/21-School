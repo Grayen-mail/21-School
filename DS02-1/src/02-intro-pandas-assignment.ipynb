{
 "cells": [
  {
   "cell_type": "markdown",
   "metadata": {},
   "source": [
    "# Задание"
   ]
  },
  {
   "cell_type": "code",
   "execution_count": 1,
   "metadata": {},
   "outputs": [],
   "source": [
    "import pandas as pd"
   ]
  },
  {
   "cell_type": "markdown",
   "metadata": {},
   "source": [
    "## Task 1"
   ]
  },
  {
   "cell_type": "markdown",
   "metadata": {},
   "source": [
    "Узнай самый часто встречаемый возраст респондентов"
   ]
  },
  {
   "cell_type": "code",
   "execution_count": 2,
   "metadata": {},
   "outputs": [],
   "source": [
    "# Код тут\n",
    "data = pd.read_csv('../datasets/kaggle_survey_2022_responses.csv', low_memory=False) "
   ]
  },
  {
   "cell_type": "code",
   "execution_count": 3,
   "metadata": {},
   "outputs": [
    {
     "data": {
      "text/html": [
       "<div>\n",
       "<style scoped>\n",
       "    .dataframe tbody tr th:only-of-type {\n",
       "        vertical-align: middle;\n",
       "    }\n",
       "\n",
       "    .dataframe tbody tr th {\n",
       "        vertical-align: top;\n",
       "    }\n",
       "\n",
       "    .dataframe thead th {\n",
       "        text-align: right;\n",
       "    }\n",
       "</style>\n",
       "<table border=\"1\" class=\"dataframe\">\n",
       "  <thead>\n",
       "    <tr style=\"text-align: right;\">\n",
       "      <th></th>\n",
       "      <th>Duration (in seconds)</th>\n",
       "      <th>Q2</th>\n",
       "      <th>Q3</th>\n",
       "      <th>Q4</th>\n",
       "      <th>Q5</th>\n",
       "      <th>Q6_1</th>\n",
       "      <th>Q6_2</th>\n",
       "      <th>Q6_3</th>\n",
       "      <th>Q6_4</th>\n",
       "      <th>Q6_5</th>\n",
       "      <th>...</th>\n",
       "      <th>Q44_3</th>\n",
       "      <th>Q44_4</th>\n",
       "      <th>Q44_5</th>\n",
       "      <th>Q44_6</th>\n",
       "      <th>Q44_7</th>\n",
       "      <th>Q44_8</th>\n",
       "      <th>Q44_9</th>\n",
       "      <th>Q44_10</th>\n",
       "      <th>Q44_11</th>\n",
       "      <th>Q44_12</th>\n",
       "    </tr>\n",
       "  </thead>\n",
       "  <tbody>\n",
       "    <tr>\n",
       "      <th>0</th>\n",
       "      <td>Duration (in seconds)</td>\n",
       "      <td>What is your age (# years)?</td>\n",
       "      <td>What is your gender? - Selected Choice</td>\n",
       "      <td>In which country do you currently reside?</td>\n",
       "      <td>Are you currently a student? (high school, uni...</td>\n",
       "      <td>On which platforms have you begun or completed...</td>\n",
       "      <td>On which platforms have you begun or completed...</td>\n",
       "      <td>On which platforms have you begun or completed...</td>\n",
       "      <td>On which platforms have you begun or completed...</td>\n",
       "      <td>On which platforms have you begun or completed...</td>\n",
       "      <td>...</td>\n",
       "      <td>Who/what are your favorite media sources that ...</td>\n",
       "      <td>Who/what are your favorite media sources that ...</td>\n",
       "      <td>Who/what are your favorite media sources that ...</td>\n",
       "      <td>Who/what are your favorite media sources that ...</td>\n",
       "      <td>Who/what are your favorite media sources that ...</td>\n",
       "      <td>Who/what are your favorite media sources that ...</td>\n",
       "      <td>Who/what are your favorite media sources that ...</td>\n",
       "      <td>Who/what are your favorite media sources that ...</td>\n",
       "      <td>Who/what are your favorite media sources that ...</td>\n",
       "      <td>Who/what are your favorite media sources that ...</td>\n",
       "    </tr>\n",
       "    <tr>\n",
       "      <th>1</th>\n",
       "      <td>121</td>\n",
       "      <td>30-34</td>\n",
       "      <td>Man</td>\n",
       "      <td>India</td>\n",
       "      <td>No</td>\n",
       "      <td>NaN</td>\n",
       "      <td>NaN</td>\n",
       "      <td>NaN</td>\n",
       "      <td>NaN</td>\n",
       "      <td>NaN</td>\n",
       "      <td>...</td>\n",
       "      <td>NaN</td>\n",
       "      <td>NaN</td>\n",
       "      <td>NaN</td>\n",
       "      <td>NaN</td>\n",
       "      <td>NaN</td>\n",
       "      <td>NaN</td>\n",
       "      <td>NaN</td>\n",
       "      <td>NaN</td>\n",
       "      <td>NaN</td>\n",
       "      <td>NaN</td>\n",
       "    </tr>\n",
       "    <tr>\n",
       "      <th>2</th>\n",
       "      <td>462</td>\n",
       "      <td>30-34</td>\n",
       "      <td>Man</td>\n",
       "      <td>Algeria</td>\n",
       "      <td>No</td>\n",
       "      <td>NaN</td>\n",
       "      <td>NaN</td>\n",
       "      <td>NaN</td>\n",
       "      <td>NaN</td>\n",
       "      <td>NaN</td>\n",
       "      <td>...</td>\n",
       "      <td>NaN</td>\n",
       "      <td>NaN</td>\n",
       "      <td>NaN</td>\n",
       "      <td>NaN</td>\n",
       "      <td>NaN</td>\n",
       "      <td>NaN</td>\n",
       "      <td>NaN</td>\n",
       "      <td>NaN</td>\n",
       "      <td>NaN</td>\n",
       "      <td>NaN</td>\n",
       "    </tr>\n",
       "  </tbody>\n",
       "</table>\n",
       "<p>3 rows × 296 columns</p>\n",
       "</div>"
      ],
      "text/plain": [
       "   Duration (in seconds)                           Q2   \n",
       "0  Duration (in seconds)  What is your age (# years)?  \\\n",
       "1                    121                        30-34   \n",
       "2                    462                        30-34   \n",
       "\n",
       "                                       Q3   \n",
       "0  What is your gender? - Selected Choice  \\\n",
       "1                                     Man   \n",
       "2                                     Man   \n",
       "\n",
       "                                          Q4   \n",
       "0  In which country do you currently reside?  \\\n",
       "1                                      India   \n",
       "2                                    Algeria   \n",
       "\n",
       "                                                  Q5   \n",
       "0  Are you currently a student? (high school, uni...  \\\n",
       "1                                                 No   \n",
       "2                                                 No   \n",
       "\n",
       "                                                Q6_1   \n",
       "0  On which platforms have you begun or completed...  \\\n",
       "1                                                NaN   \n",
       "2                                                NaN   \n",
       "\n",
       "                                                Q6_2   \n",
       "0  On which platforms have you begun or completed...  \\\n",
       "1                                                NaN   \n",
       "2                                                NaN   \n",
       "\n",
       "                                                Q6_3   \n",
       "0  On which platforms have you begun or completed...  \\\n",
       "1                                                NaN   \n",
       "2                                                NaN   \n",
       "\n",
       "                                                Q6_4   \n",
       "0  On which platforms have you begun or completed...  \\\n",
       "1                                                NaN   \n",
       "2                                                NaN   \n",
       "\n",
       "                                                Q6_5  ...   \n",
       "0  On which platforms have you begun or completed...  ...  \\\n",
       "1                                                NaN  ...   \n",
       "2                                                NaN  ...   \n",
       "\n",
       "                                               Q44_3   \n",
       "0  Who/what are your favorite media sources that ...  \\\n",
       "1                                                NaN   \n",
       "2                                                NaN   \n",
       "\n",
       "                                               Q44_4   \n",
       "0  Who/what are your favorite media sources that ...  \\\n",
       "1                                                NaN   \n",
       "2                                                NaN   \n",
       "\n",
       "                                               Q44_5   \n",
       "0  Who/what are your favorite media sources that ...  \\\n",
       "1                                                NaN   \n",
       "2                                                NaN   \n",
       "\n",
       "                                               Q44_6   \n",
       "0  Who/what are your favorite media sources that ...  \\\n",
       "1                                                NaN   \n",
       "2                                                NaN   \n",
       "\n",
       "                                               Q44_7   \n",
       "0  Who/what are your favorite media sources that ...  \\\n",
       "1                                                NaN   \n",
       "2                                                NaN   \n",
       "\n",
       "                                               Q44_8   \n",
       "0  Who/what are your favorite media sources that ...  \\\n",
       "1                                                NaN   \n",
       "2                                                NaN   \n",
       "\n",
       "                                               Q44_9   \n",
       "0  Who/what are your favorite media sources that ...  \\\n",
       "1                                                NaN   \n",
       "2                                                NaN   \n",
       "\n",
       "                                              Q44_10   \n",
       "0  Who/what are your favorite media sources that ...  \\\n",
       "1                                                NaN   \n",
       "2                                                NaN   \n",
       "\n",
       "                                              Q44_11   \n",
       "0  Who/what are your favorite media sources that ...  \\\n",
       "1                                                NaN   \n",
       "2                                                NaN   \n",
       "\n",
       "                                              Q44_12  \n",
       "0  Who/what are your favorite media sources that ...  \n",
       "1                                                NaN  \n",
       "2                                                NaN  \n",
       "\n",
       "[3 rows x 296 columns]"
      ]
     },
     "execution_count": 3,
     "metadata": {},
     "output_type": "execute_result"
    }
   ],
   "source": [
    "data.head(3)"
   ]
  },
  {
   "cell_type": "code",
   "execution_count": 4,
   "metadata": {},
   "outputs": [
    {
     "data": {
      "text/plain": [
       "(23998, 296)"
      ]
     },
     "execution_count": 4,
     "metadata": {},
     "output_type": "execute_result"
    }
   ],
   "source": [
    "data.shape"
   ]
  },
  {
   "cell_type": "code",
   "execution_count": 5,
   "metadata": {},
   "outputs": [
    {
     "data": {
      "text/plain": [
       "Duration (in seconds)    object\n",
       "Q2                       object\n",
       "Q3                       object\n",
       "Q4                       object\n",
       "Q5                       object\n",
       "                          ...  \n",
       "Q44_8                    object\n",
       "Q44_9                    object\n",
       "Q44_10                   object\n",
       "Q44_11                   object\n",
       "Q44_12                   object\n",
       "Length: 296, dtype: object"
      ]
     },
     "execution_count": 5,
     "metadata": {},
     "output_type": "execute_result"
    }
   ],
   "source": [
    "data.dtypes"
   ]
  },
  {
   "cell_type": "code",
   "execution_count": 6,
   "metadata": {},
   "outputs": [
    {
     "data": {
      "text/plain": [
       "Q2\n",
       "18-21                          4559\n",
       "25-29                          4472\n",
       "22-24                          4283\n",
       "30-34                          2972\n",
       "35-39                          2353\n",
       "40-44                          1927\n",
       "45-49                          1253\n",
       "50-54                           914\n",
       "55-59                           611\n",
       "60-69                           526\n",
       "70+                             127\n",
       "What is your age (# years)?       1\n",
       "Name: count, dtype: int64"
      ]
     },
     "execution_count": 6,
     "metadata": {},
     "output_type": "execute_result"
    }
   ],
   "source": [
    "# Строка с возрастом - 'Q2'\n",
    "# 'Q2' - 'What is your age (# years)?'\n",
    "data.Q2.value_counts()"
   ]
  },
  {
   "cell_type": "code",
   "execution_count": 7,
   "metadata": {},
   "outputs": [
    {
     "name": "stdout",
     "output_type": "stream",
     "text": [
      "Самый встречаемый возраст среди респондентов - \u001b[4m\"18-21\"\u001b[0m\n",
      "\n"
     ]
    }
   ],
   "source": [
    "print('Самый встречаемый возраст среди респондентов - \\033[4m\"',\n",
    "      data.Q2.value_counts().index[0], '\"\\033[0m\\n', sep='' )"
   ]
  },
  {
   "cell_type": "markdown",
   "metadata": {},
   "source": [
    "## Task 2"
   ]
  },
  {
   "cell_type": "markdown",
   "metadata": {},
   "source": [
    "Посчитай долю женщин среди русских участников опроса, которые уже не студенты. Результат округли до двух цифр после запятой"
   ]
  },
  {
   "cell_type": "code",
   "execution_count": 8,
   "metadata": {},
   "outputs": [
    {
     "name": "stdout",
     "output_type": "stream",
     "text": [
      "Доля женщин среди русских участников опроса,которые уже не студенты - \u001b[4m 0.24 \u001b[0m\n"
     ]
    }
   ],
   "source": [
    "# Код тут\n",
    "# Пол - 'Q3', страна - 'Q4', студент - 'Q5'\n",
    "# 'Q3' - 'What is your gender? - Selected Choice'\n",
    "# 'Q4' - 'In which country do you currently reside?'\n",
    "# 'Q5' - 'Are you currently a student? (high school, university, or graduate)'\n",
    "woman_data = data[ \n",
    "    data['Q4'].str.contains('Russia') &         # из России\n",
    "    data['Q5'].str.contains('No')               # не студент\n",
    "    # подсчет вхождений по полу 'Q3', с приведением из % к долям...\n",
    "    ].Q3.value_counts(normalize=True)['Woman']  # ...и отбор только женщин\n",
    "print('Доля женщин среди русских участников опроса,'  # печатаем, округляя до 2 знаков\n",
    "      'которые уже не студенты -', '\\033[4m', woman_data.round(2), '\\033[0m')  "
   ]
  },
  {
   "cell_type": "markdown",
   "metadata": {},
   "source": [
    "## Task 3"
   ]
  },
  {
   "cell_type": "markdown",
   "metadata": {},
   "source": [
    "Найди среднее время заполнения опроса в **минутах**. Результат округли до двух знаков после запятой"
   ]
  },
  {
   "cell_type": "code",
   "execution_count": 9,
   "metadata": {},
   "outputs": [
    {
     "data": {
      "text/html": [
       "<div>\n",
       "<style scoped>\n",
       "    .dataframe tbody tr th:only-of-type {\n",
       "        vertical-align: middle;\n",
       "    }\n",
       "\n",
       "    .dataframe tbody tr th {\n",
       "        vertical-align: top;\n",
       "    }\n",
       "\n",
       "    .dataframe thead th {\n",
       "        text-align: right;\n",
       "    }\n",
       "</style>\n",
       "<table border=\"1\" class=\"dataframe\">\n",
       "  <thead>\n",
       "    <tr style=\"text-align: right;\">\n",
       "      <th></th>\n",
       "      <th>Duration (in seconds)</th>\n",
       "      <th>Q2</th>\n",
       "      <th>Q3</th>\n",
       "      <th>Q4</th>\n",
       "      <th>Q5</th>\n",
       "      <th>Q6_1</th>\n",
       "      <th>Q6_2</th>\n",
       "      <th>Q6_3</th>\n",
       "      <th>Q6_4</th>\n",
       "      <th>Q6_5</th>\n",
       "      <th>...</th>\n",
       "      <th>Q44_3</th>\n",
       "      <th>Q44_4</th>\n",
       "      <th>Q44_5</th>\n",
       "      <th>Q44_6</th>\n",
       "      <th>Q44_7</th>\n",
       "      <th>Q44_8</th>\n",
       "      <th>Q44_9</th>\n",
       "      <th>Q44_10</th>\n",
       "      <th>Q44_11</th>\n",
       "      <th>Q44_12</th>\n",
       "    </tr>\n",
       "  </thead>\n",
       "  <tbody>\n",
       "    <tr>\n",
       "      <th>0</th>\n",
       "      <td>Duration (in seconds)</td>\n",
       "      <td>What is your age (# years)?</td>\n",
       "      <td>What is your gender? - Selected Choice</td>\n",
       "      <td>In which country do you currently reside?</td>\n",
       "      <td>Are you currently a student? (high school, uni...</td>\n",
       "      <td>On which platforms have you begun or completed...</td>\n",
       "      <td>On which platforms have you begun or completed...</td>\n",
       "      <td>On which platforms have you begun or completed...</td>\n",
       "      <td>On which platforms have you begun or completed...</td>\n",
       "      <td>On which platforms have you begun or completed...</td>\n",
       "      <td>...</td>\n",
       "      <td>Who/what are your favorite media sources that ...</td>\n",
       "      <td>Who/what are your favorite media sources that ...</td>\n",
       "      <td>Who/what are your favorite media sources that ...</td>\n",
       "      <td>Who/what are your favorite media sources that ...</td>\n",
       "      <td>Who/what are your favorite media sources that ...</td>\n",
       "      <td>Who/what are your favorite media sources that ...</td>\n",
       "      <td>Who/what are your favorite media sources that ...</td>\n",
       "      <td>Who/what are your favorite media sources that ...</td>\n",
       "      <td>Who/what are your favorite media sources that ...</td>\n",
       "      <td>Who/what are your favorite media sources that ...</td>\n",
       "    </tr>\n",
       "    <tr>\n",
       "      <th>1</th>\n",
       "      <td>121</td>\n",
       "      <td>30-34</td>\n",
       "      <td>Man</td>\n",
       "      <td>India</td>\n",
       "      <td>No</td>\n",
       "      <td>NaN</td>\n",
       "      <td>NaN</td>\n",
       "      <td>NaN</td>\n",
       "      <td>NaN</td>\n",
       "      <td>NaN</td>\n",
       "      <td>...</td>\n",
       "      <td>NaN</td>\n",
       "      <td>NaN</td>\n",
       "      <td>NaN</td>\n",
       "      <td>NaN</td>\n",
       "      <td>NaN</td>\n",
       "      <td>NaN</td>\n",
       "      <td>NaN</td>\n",
       "      <td>NaN</td>\n",
       "      <td>NaN</td>\n",
       "      <td>NaN</td>\n",
       "    </tr>\n",
       "    <tr>\n",
       "      <th>2</th>\n",
       "      <td>462</td>\n",
       "      <td>30-34</td>\n",
       "      <td>Man</td>\n",
       "      <td>Algeria</td>\n",
       "      <td>No</td>\n",
       "      <td>NaN</td>\n",
       "      <td>NaN</td>\n",
       "      <td>NaN</td>\n",
       "      <td>NaN</td>\n",
       "      <td>NaN</td>\n",
       "      <td>...</td>\n",
       "      <td>NaN</td>\n",
       "      <td>NaN</td>\n",
       "      <td>NaN</td>\n",
       "      <td>NaN</td>\n",
       "      <td>NaN</td>\n",
       "      <td>NaN</td>\n",
       "      <td>NaN</td>\n",
       "      <td>NaN</td>\n",
       "      <td>NaN</td>\n",
       "      <td>NaN</td>\n",
       "    </tr>\n",
       "  </tbody>\n",
       "</table>\n",
       "<p>3 rows × 296 columns</p>\n",
       "</div>"
      ],
      "text/plain": [
       "   Duration (in seconds)                           Q2   \n",
       "0  Duration (in seconds)  What is your age (# years)?  \\\n",
       "1                    121                        30-34   \n",
       "2                    462                        30-34   \n",
       "\n",
       "                                       Q3   \n",
       "0  What is your gender? - Selected Choice  \\\n",
       "1                                     Man   \n",
       "2                                     Man   \n",
       "\n",
       "                                          Q4   \n",
       "0  In which country do you currently reside?  \\\n",
       "1                                      India   \n",
       "2                                    Algeria   \n",
       "\n",
       "                                                  Q5   \n",
       "0  Are you currently a student? (high school, uni...  \\\n",
       "1                                                 No   \n",
       "2                                                 No   \n",
       "\n",
       "                                                Q6_1   \n",
       "0  On which platforms have you begun or completed...  \\\n",
       "1                                                NaN   \n",
       "2                                                NaN   \n",
       "\n",
       "                                                Q6_2   \n",
       "0  On which platforms have you begun or completed...  \\\n",
       "1                                                NaN   \n",
       "2                                                NaN   \n",
       "\n",
       "                                                Q6_3   \n",
       "0  On which platforms have you begun or completed...  \\\n",
       "1                                                NaN   \n",
       "2                                                NaN   \n",
       "\n",
       "                                                Q6_4   \n",
       "0  On which platforms have you begun or completed...  \\\n",
       "1                                                NaN   \n",
       "2                                                NaN   \n",
       "\n",
       "                                                Q6_5  ...   \n",
       "0  On which platforms have you begun or completed...  ...  \\\n",
       "1                                                NaN  ...   \n",
       "2                                                NaN  ...   \n",
       "\n",
       "                                               Q44_3   \n",
       "0  Who/what are your favorite media sources that ...  \\\n",
       "1                                                NaN   \n",
       "2                                                NaN   \n",
       "\n",
       "                                               Q44_4   \n",
       "0  Who/what are your favorite media sources that ...  \\\n",
       "1                                                NaN   \n",
       "2                                                NaN   \n",
       "\n",
       "                                               Q44_5   \n",
       "0  Who/what are your favorite media sources that ...  \\\n",
       "1                                                NaN   \n",
       "2                                                NaN   \n",
       "\n",
       "                                               Q44_6   \n",
       "0  Who/what are your favorite media sources that ...  \\\n",
       "1                                                NaN   \n",
       "2                                                NaN   \n",
       "\n",
       "                                               Q44_7   \n",
       "0  Who/what are your favorite media sources that ...  \\\n",
       "1                                                NaN   \n",
       "2                                                NaN   \n",
       "\n",
       "                                               Q44_8   \n",
       "0  Who/what are your favorite media sources that ...  \\\n",
       "1                                                NaN   \n",
       "2                                                NaN   \n",
       "\n",
       "                                               Q44_9   \n",
       "0  Who/what are your favorite media sources that ...  \\\n",
       "1                                                NaN   \n",
       "2                                                NaN   \n",
       "\n",
       "                                              Q44_10   \n",
       "0  Who/what are your favorite media sources that ...  \\\n",
       "1                                                NaN   \n",
       "2                                                NaN   \n",
       "\n",
       "                                              Q44_11   \n",
       "0  Who/what are your favorite media sources that ...  \\\n",
       "1                                                NaN   \n",
       "2                                                NaN   \n",
       "\n",
       "                                              Q44_12  \n",
       "0  Who/what are your favorite media sources that ...  \n",
       "1                                                NaN  \n",
       "2                                                NaN  \n",
       "\n",
       "[3 rows x 296 columns]"
      ]
     },
     "execution_count": 9,
     "metadata": {},
     "output_type": "execute_result"
    }
   ],
   "source": [
    "# Код тут\n",
    "data.head(3)"
   ]
  },
  {
   "cell_type": "code",
   "execution_count": 10,
   "metadata": {},
   "outputs": [],
   "source": [
    "# Для приведения типа удалим строку с индексом [0]...\n",
    "data.drop(0, inplace=True)  # ... в текущем df"
   ]
  },
  {
   "cell_type": "code",
   "execution_count": 11,
   "metadata": {},
   "outputs": [
    {
     "data": {
      "text/html": [
       "<div>\n",
       "<style scoped>\n",
       "    .dataframe tbody tr th:only-of-type {\n",
       "        vertical-align: middle;\n",
       "    }\n",
       "\n",
       "    .dataframe tbody tr th {\n",
       "        vertical-align: top;\n",
       "    }\n",
       "\n",
       "    .dataframe thead th {\n",
       "        text-align: right;\n",
       "    }\n",
       "</style>\n",
       "<table border=\"1\" class=\"dataframe\">\n",
       "  <thead>\n",
       "    <tr style=\"text-align: right;\">\n",
       "      <th></th>\n",
       "      <th>Duration (in seconds)</th>\n",
       "      <th>Q2</th>\n",
       "      <th>Q3</th>\n",
       "      <th>Q4</th>\n",
       "      <th>Q5</th>\n",
       "      <th>Q6_1</th>\n",
       "      <th>Q6_2</th>\n",
       "      <th>Q6_3</th>\n",
       "      <th>Q6_4</th>\n",
       "      <th>Q6_5</th>\n",
       "      <th>...</th>\n",
       "      <th>Q44_3</th>\n",
       "      <th>Q44_4</th>\n",
       "      <th>Q44_5</th>\n",
       "      <th>Q44_6</th>\n",
       "      <th>Q44_7</th>\n",
       "      <th>Q44_8</th>\n",
       "      <th>Q44_9</th>\n",
       "      <th>Q44_10</th>\n",
       "      <th>Q44_11</th>\n",
       "      <th>Q44_12</th>\n",
       "    </tr>\n",
       "  </thead>\n",
       "  <tbody>\n",
       "    <tr>\n",
       "      <th>1</th>\n",
       "      <td>121</td>\n",
       "      <td>30-34</td>\n",
       "      <td>Man</td>\n",
       "      <td>India</td>\n",
       "      <td>No</td>\n",
       "      <td>NaN</td>\n",
       "      <td>NaN</td>\n",
       "      <td>NaN</td>\n",
       "      <td>NaN</td>\n",
       "      <td>NaN</td>\n",
       "      <td>...</td>\n",
       "      <td>NaN</td>\n",
       "      <td>NaN</td>\n",
       "      <td>NaN</td>\n",
       "      <td>NaN</td>\n",
       "      <td>NaN</td>\n",
       "      <td>NaN</td>\n",
       "      <td>NaN</td>\n",
       "      <td>NaN</td>\n",
       "      <td>NaN</td>\n",
       "      <td>NaN</td>\n",
       "    </tr>\n",
       "    <tr>\n",
       "      <th>2</th>\n",
       "      <td>462</td>\n",
       "      <td>30-34</td>\n",
       "      <td>Man</td>\n",
       "      <td>Algeria</td>\n",
       "      <td>No</td>\n",
       "      <td>NaN</td>\n",
       "      <td>NaN</td>\n",
       "      <td>NaN</td>\n",
       "      <td>NaN</td>\n",
       "      <td>NaN</td>\n",
       "      <td>...</td>\n",
       "      <td>NaN</td>\n",
       "      <td>NaN</td>\n",
       "      <td>NaN</td>\n",
       "      <td>NaN</td>\n",
       "      <td>NaN</td>\n",
       "      <td>NaN</td>\n",
       "      <td>NaN</td>\n",
       "      <td>NaN</td>\n",
       "      <td>NaN</td>\n",
       "      <td>NaN</td>\n",
       "    </tr>\n",
       "    <tr>\n",
       "      <th>3</th>\n",
       "      <td>293</td>\n",
       "      <td>18-21</td>\n",
       "      <td>Man</td>\n",
       "      <td>Egypt</td>\n",
       "      <td>Yes</td>\n",
       "      <td>Coursera</td>\n",
       "      <td>edX</td>\n",
       "      <td>NaN</td>\n",
       "      <td>DataCamp</td>\n",
       "      <td>NaN</td>\n",
       "      <td>...</td>\n",
       "      <td>NaN</td>\n",
       "      <td>Kaggle (notebooks, forums, etc)</td>\n",
       "      <td>NaN</td>\n",
       "      <td>YouTube (Kaggle YouTube, Cloud AI Adventures, ...</td>\n",
       "      <td>Podcasts (Chai Time Data Science, O’Reilly Dat...</td>\n",
       "      <td>NaN</td>\n",
       "      <td>NaN</td>\n",
       "      <td>NaN</td>\n",
       "      <td>NaN</td>\n",
       "      <td>NaN</td>\n",
       "    </tr>\n",
       "  </tbody>\n",
       "</table>\n",
       "<p>3 rows × 296 columns</p>\n",
       "</div>"
      ],
      "text/plain": [
       "  Duration (in seconds)     Q2   Q3       Q4   Q5      Q6_1 Q6_2 Q6_3   \n",
       "1                   121  30-34  Man    India   No       NaN  NaN  NaN  \\\n",
       "2                   462  30-34  Man  Algeria   No       NaN  NaN  NaN   \n",
       "3                   293  18-21  Man    Egypt  Yes  Coursera  edX  NaN   \n",
       "\n",
       "       Q6_4 Q6_5  ... Q44_3                            Q44_4 Q44_5   \n",
       "1       NaN  NaN  ...   NaN                              NaN   NaN  \\\n",
       "2       NaN  NaN  ...   NaN                              NaN   NaN   \n",
       "3  DataCamp  NaN  ...   NaN  Kaggle (notebooks, forums, etc)   NaN   \n",
       "\n",
       "                                               Q44_6   \n",
       "1                                                NaN  \\\n",
       "2                                                NaN   \n",
       "3  YouTube (Kaggle YouTube, Cloud AI Adventures, ...   \n",
       "\n",
       "                                               Q44_7 Q44_8 Q44_9 Q44_10   \n",
       "1                                                NaN   NaN   NaN    NaN  \\\n",
       "2                                                NaN   NaN   NaN    NaN   \n",
       "3  Podcasts (Chai Time Data Science, O’Reilly Dat...   NaN   NaN    NaN   \n",
       "\n",
       "  Q44_11 Q44_12  \n",
       "1    NaN    NaN  \n",
       "2    NaN    NaN  \n",
       "3    NaN    NaN  \n",
       "\n",
       "[3 rows x 296 columns]"
      ]
     },
     "execution_count": 11,
     "metadata": {},
     "output_type": "execute_result"
    }
   ],
   "source": [
    "data.head(3)"
   ]
  },
  {
   "cell_type": "code",
   "execution_count": 12,
   "metadata": {},
   "outputs": [
    {
     "name": "stdout",
     "output_type": "stream",
     "text": [
      "Среднее время заполнения опроса в минутах: \u001b[4m 168.17 \u001b[0m\n",
      "\n"
     ]
    }
   ],
   "source": [
    "# Для подсчета приведем к 'int'...\n",
    "data['Duration (in seconds)'] = data['Duration (in seconds)'].astype(int)\n",
    "print('Среднее время заполнения опроса в минутах:', '\\033[4m', \n",
    "      round(data['Duration (in seconds)'].mean()/60, 2), '\\033[0m\\n')  # берем среднее и переводим в минуты"
   ]
  },
  {
   "cell_type": "markdown",
   "metadata": {},
   "source": [
    "## Task 4"
   ]
  },
  {
   "cell_type": "markdown",
   "metadata": {},
   "source": [
    "Выведи топ-3 образовательных курса, которые указали респонденты. P.S Это вопрос Q6"
   ]
  },
  {
   "cell_type": "code",
   "execution_count": 13,
   "metadata": {},
   "outputs": [
    {
     "name": "stdout",
     "output_type": "stream",
     "text": [
      "['Q6_1', 'Q6_2', 'Q6_3', 'Q6_4', 'Q6_5', 'Q6_6', 'Q6_7', 'Q6_8', 'Q6_9', 'Q6_10', 'Q6_11', 'Q6_12']\n"
     ]
    }
   ],
   "source": [
    "# Код тут\n",
    "# Сформируем список столбцов 'Q6' (образовательные курсы)\n",
    "q6_col = [col for col in data.columns if col.startswith('Q6')]\n",
    "print(q6_col)"
   ]
  },
  {
   "cell_type": "code",
   "execution_count": 14,
   "metadata": {},
   "outputs": [
    {
     "data": {
      "text/html": [
       "<div>\n",
       "<style scoped>\n",
       "    .dataframe tbody tr th:only-of-type {\n",
       "        vertical-align: middle;\n",
       "    }\n",
       "\n",
       "    .dataframe tbody tr th {\n",
       "        vertical-align: top;\n",
       "    }\n",
       "\n",
       "    .dataframe thead th {\n",
       "        text-align: right;\n",
       "    }\n",
       "</style>\n",
       "<table border=\"1\" class=\"dataframe\">\n",
       "  <thead>\n",
       "    <tr style=\"text-align: right;\">\n",
       "      <th></th>\n",
       "      <th>variable</th>\n",
       "      <th>value</th>\n",
       "    </tr>\n",
       "  </thead>\n",
       "  <tbody>\n",
       "    <tr>\n",
       "      <th>0</th>\n",
       "      <td>Q6_1</td>\n",
       "      <td>NaN</td>\n",
       "    </tr>\n",
       "    <tr>\n",
       "      <th>1</th>\n",
       "      <td>Q6_1</td>\n",
       "      <td>NaN</td>\n",
       "    </tr>\n",
       "    <tr>\n",
       "      <th>2</th>\n",
       "      <td>Q6_1</td>\n",
       "      <td>Coursera</td>\n",
       "    </tr>\n",
       "  </tbody>\n",
       "</table>\n",
       "</div>"
      ],
      "text/plain": [
       "  variable     value\n",
       "0     Q6_1       NaN\n",
       "1     Q6_1       NaN\n",
       "2     Q6_1  Coursera"
      ]
     },
     "execution_count": 14,
     "metadata": {},
     "output_type": "execute_result"
    }
   ],
   "source": [
    "# Сведем столбцы в один\n",
    "course = data[q6_col].melt(None, q6_col)\n",
    "course[:3]"
   ]
  },
  {
   "cell_type": "code",
   "execution_count": 15,
   "metadata": {},
   "outputs": [
    {
     "data": {
      "text/plain": [
       "value\n",
       "Coursera                                                 9699\n",
       "University Courses (resulting in a university degree)    6780\n",
       "Kaggle Learn Courses                                     6628\n",
       "Name: count, dtype: int64"
      ]
     },
     "execution_count": 15,
     "metadata": {},
     "output_type": "execute_result"
    }
   ],
   "source": [
    "course['value'].value_counts()[0:3]"
   ]
  },
  {
   "cell_type": "code",
   "execution_count": 16,
   "metadata": {},
   "outputs": [
    {
     "name": "stdout",
     "output_type": "stream",
     "text": [
      "Топ-3 образовательных курса:\u001b[4m\n",
      "Coursera\n",
      "University Courses (resulting in a university degree)\n",
      "Kaggle Learn Courses\n",
      "\u001b[0m\n"
     ]
    }
   ],
   "source": [
    "print('Топ-3 образовательных курса:\\033[4m', \n",
    "      *course['value'].value_counts()[0:3].index,\n",
    "      '\\033[0m', sep='\\n')"
   ]
  },
  {
   "cell_type": "markdown",
   "metadata": {},
   "source": [
    "## Task 5"
   ]
  },
  {
   "cell_type": "markdown",
   "metadata": {},
   "source": [
    "Узнай топ-5 языков программирования, которые регулярно используют Data Scientists в своей работе"
   ]
  },
  {
   "cell_type": "code",
   "execution_count": 17,
   "metadata": {},
   "outputs": [
    {
     "name": "stdout",
     "output_type": "stream",
     "text": [
      "Топ-5 языков программирования, которые регулярно используют Data Scientists в своей работе:\u001b[4m\n",
      "Python\n",
      "SQL\n",
      "R\n",
      "Bash\n",
      "Javascript\n",
      "\u001b[0m\n"
     ]
    }
   ],
   "source": [
    "# Код тут\n",
    "# Сформируем список столбцов 'Q12' (язык программирования)\n",
    "q12_col = [col for col in data.columns if col.startswith('Q12')]\n",
    "data_DS = data.query('Q23 ==\"Data Scientist\"')  # отбор по профессии 'Data Scientist'\n",
    "# Сведём языки программирования в один столбец, и выведем 5 самых используемых\n",
    "print('Топ-5 языков программирования, которые регулярно используют Data Scientists в своей работе:\\033[4m', \n",
    "      *data_DS[q12_col].melt(None, q12_col)['value'].value_counts()[:5].index, '\\033[0m', sep='\\n')\n"
   ]
  },
  {
   "cell_type": "markdown",
   "metadata": {},
   "source": [
    "## Task 6"
   ]
  },
  {
   "cell_type": "markdown",
   "metadata": {},
   "source": [
    "Узнай средний доход среди 'Data Scientist' специалистов и средний доход среди 'Machine Learning/ MLops Engineer' \\\n",
    "Т.к. в колонке Q29 указан промежуток, то возьми среднее значение из промежутка. \n",
    "\n",
    "Например: \n",
    "- '15,000-19,999' - 17500, \n",
    "- '125,000-149,999' - 137500. \n",
    "- \\> $1,000,000 - оставляем 1000000\n",
    "\n",
    "Средние доход **округли до целого.**"
   ]
  },
  {
   "cell_type": "code",
   "execution_count": 18,
   "metadata": {},
   "outputs": [
    {
     "data": {
      "text/plain": [
       "array([nan, '25,000-29,999', '100,000-124,999', '200,000-249,999',\n",
       "       '150,000-199,999', '90,000-99,999', '30,000-39,999', '3,000-3,999',\n",
       "       '50,000-59,999', '125,000-149,999', '15,000-19,999', '5,000-7,499',\n",
       "       '10,000-14,999', '20,000-24,999', '$0-999', '7,500-9,999',\n",
       "       '4,000-4,999', '80,000-89,999', '2,000-2,999', '250,000-299,999',\n",
       "       '1,000-1,999', '$500,000-999,999', '70,000-79,999',\n",
       "       '60,000-69,999', '40,000-49,999', '>$1,000,000', '300,000-499,999'],\n",
       "      dtype=object)"
      ]
     },
     "execution_count": 18,
     "metadata": {},
     "output_type": "execute_result"
    }
   ],
   "source": [
    "# Код тут\n",
    "# Выберем доходы, для создания словаря\n",
    "data['Q29'].unique()"
   ]
  },
  {
   "cell_type": "code",
   "execution_count": 19,
   "metadata": {},
   "outputs": [
    {
     "name": "stdout",
     "output_type": "stream",
     "text": [
      "{'25,000-29,999': 27500, '200,000-249,999': 225000, '150,000-199,999': 175000, '50,000-59,999': 55000, '10,000-14,999': 12500, '$0-999': 500, '4,000-4,999': 4500, '125,000-149,999': 137500, '3,000-3,999': 3500, '80,000-89,999': 85000, '7,500-9,999': 8750, '30,000-39,999': 35000, '100,000-124,999': 112500, '1,000-1,999': 1500, '90,000-99,999': 95000, '40,000-49,999': 45000, '15,000-19,999': 17500, '70,000-79,999': 75000, '>$1,000,000': 1000000, '5,000-7,499': 6250, '2,000-2,999': 2500, '20,000-24,999': 22500, '60,000-69,999': 65000, '300,000-499,999': 400000, '250,000-299,999': 275000, '$500,000-999,999': 750000}\n"
     ]
    }
   ],
   "source": [
    "# Создадим словарь средних доходов\n",
    "compensation_map = {'25,000-29,999': 27500, '200,000-249,999': 225000, '150,000-199,999': 175000,\n",
    "       '50,000-59,999': 55000, '10,000-14,999': 12500, '$0-999': 500, '4,000-4,999': 4500,\n",
    "       '125,000-149,999': 137500, '3,000-3,999': 3500, '80,000-89,999': 85000, '7,500-9,999': 8750,\n",
    "       '30,000-39,999': 35000, '100,000-124,999': 112500, '1,000-1,999': 1500, '90,000-99,999': 95000,\n",
    "       '40,000-49,999': 45000, '15,000-19,999':17500, '70,000-79,999': 75000, '>$1,000,000': 1000000,\n",
    "       '5,000-7,499': 6250, '2,000-2,999': 2500, '20,000-24,999': 22500, '60,000-69,999': 65000,\n",
    "       '300,000-499,999': 400000, '250,000-299,999': 275000, '$500,000-999,999': 750000\n",
    "           }\n",
    "print(compensation_map)"
   ]
  },
  {
   "cell_type": "code",
   "execution_count": 20,
   "metadata": {},
   "outputs": [
    {
     "name": "stdout",
     "output_type": "stream",
     "text": [
      "{'25,000-29,999': 27500.0, '100,000-124,999': 112500.0, '200,000-249,999': 225000.0, '150,000-199,999': 175000.0, '90,000-99,999': 95000.0, '30,000-39,999': 35000.0, '3,000-3,999': 3500.0, '50,000-59,999': 55000.0, '125,000-149,999': 137500.0, '15,000-19,999': 17500.0, '5,000-7,499': 6250.0, '10,000-14,999': 12500.0, '20,000-24,999': 22500.0, '$0-999': 500.0, '7,500-9,999': 8750.0, '4,000-4,999': 4500.0, '80,000-89,999': 85000.0, '2,000-2,999': 2500.0, '250,000-299,999': 275000.0, '1,000-1,999': 1500.0, '$500,000-999,999': 750000.0, '70,000-79,999': 75000.0, '60,000-69,999': 65000.0, '40,000-49,999': 45000.0, '>$1,000,000': 1000000, '300,000-499,999': 400000.0}\n"
     ]
    }
   ],
   "source": [
    "# Другой вариант (автоматический) создания словаря средних доходов\n",
    "compensation_map2 = {}\n",
    "for x in data['Q29'].dropna().unique():\n",
    "    y = x.translate(x.maketrans('','',',$>'))\n",
    "    if len(y.split('-')) == 1:  # если одно число\n",
    "        compensation_map2[x] = int(y)\n",
    "    else:\n",
    "        i, j = y.split('-')     # если два числа\n",
    "        compensation_map2[x] = round((int(i) + int(j)) / 2, 0)\n",
    "        #print(x, y, i, j)\n",
    "print(compensation_map2)\n"
   ]
  },
  {
   "cell_type": "code",
   "execution_count": 21,
   "metadata": {},
   "outputs": [
    {
     "data": {
      "text/html": [
       "<div>\n",
       "<style scoped>\n",
       "    .dataframe tbody tr th:only-of-type {\n",
       "        vertical-align: middle;\n",
       "    }\n",
       "\n",
       "    .dataframe tbody tr th {\n",
       "        vertical-align: top;\n",
       "    }\n",
       "\n",
       "    .dataframe thead th {\n",
       "        text-align: right;\n",
       "    }\n",
       "</style>\n",
       "<table border=\"1\" class=\"dataframe\">\n",
       "  <thead>\n",
       "    <tr style=\"text-align: right;\">\n",
       "      <th></th>\n",
       "      <th>Q29</th>\n",
       "      <th>average_compensation</th>\n",
       "    </tr>\n",
       "  </thead>\n",
       "  <tbody>\n",
       "    <tr>\n",
       "      <th>1</th>\n",
       "      <td>NaN</td>\n",
       "      <td>NaN</td>\n",
       "    </tr>\n",
       "    <tr>\n",
       "      <th>2</th>\n",
       "      <td>NaN</td>\n",
       "      <td>NaN</td>\n",
       "    </tr>\n",
       "    <tr>\n",
       "      <th>3</th>\n",
       "      <td>NaN</td>\n",
       "      <td>NaN</td>\n",
       "    </tr>\n",
       "    <tr>\n",
       "      <th>4</th>\n",
       "      <td>25,000-29,999</td>\n",
       "      <td>27500.0</td>\n",
       "    </tr>\n",
       "    <tr>\n",
       "      <th>5</th>\n",
       "      <td>NaN</td>\n",
       "      <td>NaN</td>\n",
       "    </tr>\n",
       "    <tr>\n",
       "      <th>...</th>\n",
       "      <td>...</td>\n",
       "      <td>...</td>\n",
       "    </tr>\n",
       "    <tr>\n",
       "      <th>23993</th>\n",
       "      <td>NaN</td>\n",
       "      <td>NaN</td>\n",
       "    </tr>\n",
       "    <tr>\n",
       "      <th>23994</th>\n",
       "      <td>NaN</td>\n",
       "      <td>NaN</td>\n",
       "    </tr>\n",
       "    <tr>\n",
       "      <th>23995</th>\n",
       "      <td>25,000-29,999</td>\n",
       "      <td>27500.0</td>\n",
       "    </tr>\n",
       "    <tr>\n",
       "      <th>23996</th>\n",
       "      <td>15,000-19,999</td>\n",
       "      <td>17500.0</td>\n",
       "    </tr>\n",
       "    <tr>\n",
       "      <th>23997</th>\n",
       "      <td>NaN</td>\n",
       "      <td>NaN</td>\n",
       "    </tr>\n",
       "  </tbody>\n",
       "</table>\n",
       "<p>23997 rows × 2 columns</p>\n",
       "</div>"
      ],
      "text/plain": [
       "                 Q29  average_compensation\n",
       "1                NaN                   NaN\n",
       "2                NaN                   NaN\n",
       "3                NaN                   NaN\n",
       "4      25,000-29,999               27500.0\n",
       "5                NaN                   NaN\n",
       "...              ...                   ...\n",
       "23993            NaN                   NaN\n",
       "23994            NaN                   NaN\n",
       "23995  25,000-29,999               27500.0\n",
       "23996  15,000-19,999               17500.0\n",
       "23997            NaN                   NaN\n",
       "\n",
       "[23997 rows x 2 columns]"
      ]
     },
     "execution_count": 21,
     "metadata": {},
     "output_type": "execute_result"
    }
   ],
   "source": [
    "# С помощью словаря создадим столбец со средними доходами\n",
    "data['average_compensation'] = data['Q29'].map(compensation_map2)\n",
    "data[['Q29', 'average_compensation']]"
   ]
  },
  {
   "cell_type": "code",
   "execution_count": 22,
   "metadata": {},
   "outputs": [
    {
     "data": {
      "text/html": [
       "<div>\n",
       "<style scoped>\n",
       "    .dataframe tbody tr th:only-of-type {\n",
       "        vertical-align: middle;\n",
       "    }\n",
       "\n",
       "    .dataframe tbody tr th {\n",
       "        vertical-align: top;\n",
       "    }\n",
       "\n",
       "    .dataframe thead th {\n",
       "        text-align: right;\n",
       "    }\n",
       "</style>\n",
       "<table border=\"1\" class=\"dataframe\">\n",
       "  <thead>\n",
       "    <tr style=\"text-align: right;\">\n",
       "      <th></th>\n",
       "      <th>Q23</th>\n",
       "      <th>average_compensation</th>\n",
       "    </tr>\n",
       "  </thead>\n",
       "  <tbody>\n",
       "    <tr>\n",
       "      <th>4</th>\n",
       "      <td>Data Scientist</td>\n",
       "      <td>27500.0</td>\n",
       "    </tr>\n",
       "    <tr>\n",
       "      <th>17</th>\n",
       "      <td>Data Scientist</td>\n",
       "      <td>225000.0</td>\n",
       "    </tr>\n",
       "    <tr>\n",
       "      <th>18</th>\n",
       "      <td>Data Scientist</td>\n",
       "      <td>175000.0</td>\n",
       "    </tr>\n",
       "    <tr>\n",
       "      <th>30</th>\n",
       "      <td>Data Scientist</td>\n",
       "      <td>55000.0</td>\n",
       "    </tr>\n",
       "    <tr>\n",
       "      <th>33</th>\n",
       "      <td>Machine Learning/ MLops Engineer</td>\n",
       "      <td>137500.0</td>\n",
       "    </tr>\n",
       "  </tbody>\n",
       "</table>\n",
       "</div>"
      ],
      "text/plain": [
       "                                 Q23  average_compensation\n",
       "4                     Data Scientist               27500.0\n",
       "17                    Data Scientist              225000.0\n",
       "18                    Data Scientist              175000.0\n",
       "30                    Data Scientist               55000.0\n",
       "33  Machine Learning/ MLops Engineer              137500.0"
      ]
     },
     "execution_count": 22,
     "metadata": {},
     "output_type": "execute_result"
    }
   ],
   "source": [
    "# Сделаем выборку по профессиям \"Data Scientist\" и \"Machine Learning/ MLops Engineer\"\n",
    "data_DSML = data[['Q23', 'average_compensation']].query('Q23 ==\"Data Scientist\" or Q23 == \"Machine Learning/ MLops Engineer\"')\n",
    "data_DSML[:5]"
   ]
  },
  {
   "cell_type": "code",
   "execution_count": 23,
   "metadata": {},
   "outputs": [
    {
     "data": {
      "text/html": [
       "<div>\n",
       "<style scoped>\n",
       "    .dataframe tbody tr th:only-of-type {\n",
       "        vertical-align: middle;\n",
       "    }\n",
       "\n",
       "    .dataframe tbody tr th {\n",
       "        vertical-align: top;\n",
       "    }\n",
       "\n",
       "    .dataframe thead th {\n",
       "        text-align: right;\n",
       "    }\n",
       "</style>\n",
       "<table border=\"1\" class=\"dataframe\">\n",
       "  <thead>\n",
       "    <tr style=\"text-align: right;\">\n",
       "      <th></th>\n",
       "      <th>average_compensation</th>\n",
       "    </tr>\n",
       "    <tr>\n",
       "      <th>Q23</th>\n",
       "      <th></th>\n",
       "    </tr>\n",
       "  </thead>\n",
       "  <tbody>\n",
       "    <tr>\n",
       "      <th>Data Scientist</th>\n",
       "      <td>70337.0</td>\n",
       "    </tr>\n",
       "    <tr>\n",
       "      <th>Machine Learning/ MLops Engineer</th>\n",
       "      <td>67438.0</td>\n",
       "    </tr>\n",
       "  </tbody>\n",
       "</table>\n",
       "</div>"
      ],
      "text/plain": [
       "                                  average_compensation\n",
       "Q23                                                   \n",
       "Data Scientist                                 70337.0\n",
       "Machine Learning/ MLops Engineer               67438.0"
      ]
     },
     "execution_count": 23,
     "metadata": {},
     "output_type": "execute_result"
    }
   ],
   "source": [
    "# Вычислим средний доход\n",
    "data_DSML = data_DSML.groupby(['Q23']).mean().round()\n",
    "data_DSML"
   ]
  },
  {
   "cell_type": "code",
   "execution_count": 24,
   "metadata": {},
   "outputs": [
    {
     "name": "stdout",
     "output_type": "stream",
     "text": [
      "Средний доход среди 'Data Scientist': \u001b[4m 70337.0 \u001b[0m \n",
      "Средний доход среди 'Machine Learning/ MLops Engineer': \u001b[4m 67438.0 \u001b[0m\n"
     ]
    }
   ],
   "source": [
    "print(\"Средний доход среди 'Data Scientist':\", '\\033[4m', \n",
    "      *data_DSML.loc['Data Scientist'], '\\033[0m',\n",
    "      \"\\nСредний доход среди 'Machine Learning/ MLops Engineer':\", '\\033[4m', \n",
    "      *data_DSML.loc['Machine Learning/ MLops Engineer'], '\\033[0m')"
   ]
  },
  {
   "cell_type": "markdown",
   "metadata": {},
   "source": [
    "## Дополнительно"
   ]
  },
  {
   "cell_type": "markdown",
   "metadata": {},
   "source": [
    "Найди какой-нибудь интересный инсайт из этих данных. Пиши свои интересные инсайты в чат проекта с хэштегом.\n",
    "#инсайт\n",
    "\n",
    "Автор самого интересного инсайта получит p2p баллы. Поверь, они тебе понадобятся"
   ]
  },
  {
   "cell_type": "code",
   "execution_count": 25,
   "metadata": {},
   "outputs": [
    {
     "data": {
      "text/plain": [
       "Q3\n",
       "Man      0.761178\n",
       "Woman    0.220278\n",
       "Name: proportion, dtype: float64"
      ]
     },
     "execution_count": 25,
     "metadata": {},
     "output_type": "execute_result"
    }
   ],
   "source": [
    "# Код тут\n",
    "# Доли мужчин и женщин среди респондентов, всего...\n",
    "data.Q3.value_counts(normalize=True).head(2)"
   ]
  },
  {
   "cell_type": "code",
   "execution_count": 26,
   "metadata": {
    "tags": []
   },
   "outputs": [
    {
     "data": {
      "text/plain": [
       "Q3\n",
       "Man      0.881890\n",
       "Woman    0.070866\n",
       "Name: proportion, dtype: float64"
      ]
     },
     "execution_count": 26,
     "metadata": {},
     "output_type": "execute_result"
    }
   ],
   "source": [
    "# ... старше 70 лет, в долях\n",
    "data.query(\"Q2 == '70+'\").Q3.value_counts(normalize=True).head(2)"
   ]
  },
  {
   "cell_type": "code",
   "execution_count": 27,
   "metadata": {
    "tags": []
   },
   "outputs": [
    {
     "data": {
      "text/plain": [
       "Q3\n",
       "Man      112\n",
       "Woman      9\n",
       "Name: count, dtype: int64"
      ]
     },
     "execution_count": 27,
     "metadata": {},
     "output_type": "execute_result"
    }
   ],
   "source": [
    "# ... старше 70 лет\n",
    "data.query(\"Q2 == '70+'\").Q3.value_counts().head(2)"
   ]
  },
  {
   "cell_type": "code",
   "execution_count": 28,
   "metadata": {
    "tags": []
   },
   "outputs": [
    {
     "data": {
      "text/plain": [
       "Q3\n",
       "Man                        240\n",
       "Woman                       79\n",
       "Nonbinary                    3\n",
       "Prefer to self-describe      1\n",
       "Prefer not to say            1\n",
       "Name: count, dtype: int64"
      ]
     },
     "execution_count": 28,
     "metadata": {},
     "output_type": "execute_result"
    }
   ],
   "source": [
    "# респонденты из России\n",
    "data.query(\"Q4 == 'Russia'\").Q3.value_counts()"
   ]
  },
  {
   "cell_type": "code",
   "execution_count": 29,
   "metadata": {
    "tags": []
   },
   "outputs": [
    {
     "data": {
      "text/plain": [
       "Series([], Name: Q3, dtype: object)"
      ]
     },
     "execution_count": 29,
     "metadata": {},
     "output_type": "execute_result"
    }
   ],
   "source": [
    "# респонденты из России, старше 70\n",
    "data.query(\"Q4 == 'Russia' and Q2 == '70+'\").Q3"
   ]
  },
  {
   "cell_type": "code",
   "execution_count": 30,
   "metadata": {
    "tags": []
   },
   "outputs": [
    {
     "data": {
      "text/plain": [
       "Q2\n",
       "18-21    77\n",
       "22-24    62\n",
       "25-29    54\n",
       "30-34    52\n",
       "35-39    30\n",
       "40-44    20\n",
       "45-49    15\n",
       "55-59     6\n",
       "50-54     6\n",
       "60-69     2\n",
       "Name: count, dtype: int64"
      ]
     },
     "execution_count": 30,
     "metadata": {},
     "output_type": "execute_result"
    }
   ],
   "source": [
    "# Среди респондентов из России нет людей старше 70\n",
    "data.query(\"Q4 == 'Russia'\").Q2.value_counts()"
   ]
  },
  {
   "cell_type": "code",
   "execution_count": 31,
   "metadata": {
    "tags": []
   },
   "outputs": [
    {
     "data": {
      "text/plain": [
       "Q2\n",
       "18-21    4559\n",
       "25-29    4472\n",
       "22-24    4283\n",
       "30-34    2972\n",
       "35-39    2353\n",
       "40-44    1927\n",
       "45-49    1253\n",
       "50-54     914\n",
       "55-59     611\n",
       "60-69     526\n",
       "70+       127\n",
       "Name: count, dtype: int64"
      ]
     },
     "execution_count": 31,
     "metadata": {},
     "output_type": "execute_result"
    }
   ],
   "source": [
    "data.Q2.value_counts()"
   ]
  },
  {
   "cell_type": "code",
   "execution_count": 32,
   "metadata": {
    "tags": []
   },
   "outputs": [
    {
     "data": {
      "text/plain": [
       "Q30\n",
       "$0 ($USD)       51\n",
       "$1-$99          20\n",
       "$100-$999       13\n",
       "$1000-$9,999    12\n",
       "Name: count, dtype: int64"
      ]
     },
     "execution_count": 32,
     "metadata": {},
     "output_type": "execute_result"
    }
   ],
   "source": [
    "data.query(\"Q4 == 'Russia'\").Q30.value_counts()"
   ]
  },
  {
   "cell_type": "raw",
   "metadata": {
    "tags": []
   },
   "source": [
    "data.Q30.value_counts()"
   ]
  },
  {
   "cell_type": "code",
   "execution_count": 33,
   "metadata": {
    "tags": []
   },
   "outputs": [
    {
     "data": {
      "text/plain": [
       "Q29\n",
       "$0-999             17\n",
       "10,000-14,999      12\n",
       "1,000-1,999         8\n",
       "40,000-49,999       8\n",
       "7,500-9,999         7\n",
       "50,000-59,999       5\n",
       "5,000-7,499         5\n",
       "25,000-29,999       5\n",
       "15,000-19,999       5\n",
       "30,000-39,999       4\n",
       "20,000-24,999       4\n",
       "70,000-79,999       3\n",
       "2,000-2,999         3\n",
       "60,000-69,999       2\n",
       "4,000-4,999         1\n",
       "100,000-124,999     1\n",
       "90,000-99,999       1\n",
       "3,000-3,999         1\n",
       "Name: count, dtype: int64"
      ]
     },
     "execution_count": 33,
     "metadata": {},
     "output_type": "execute_result"
    }
   ],
   "source": [
    "data.query(\"Q4 == 'Russia'\").Q29.value_counts()"
   ]
  },
  {
   "cell_type": "code",
   "execution_count": 34,
   "metadata": {
    "tags": []
   },
   "outputs": [
    {
     "data": {
      "text/html": [
       "<div>\n",
       "<style scoped>\n",
       "    .dataframe tbody tr th:only-of-type {\n",
       "        vertical-align: middle;\n",
       "    }\n",
       "\n",
       "    .dataframe tbody tr th {\n",
       "        vertical-align: top;\n",
       "    }\n",
       "\n",
       "    .dataframe thead th {\n",
       "        text-align: right;\n",
       "    }\n",
       "</style>\n",
       "<table border=\"1\" class=\"dataframe\">\n",
       "  <thead>\n",
       "    <tr style=\"text-align: right;\">\n",
       "      <th></th>\n",
       "      <th>Q4</th>\n",
       "    </tr>\n",
       "    <tr>\n",
       "      <th>average_compensation</th>\n",
       "      <th></th>\n",
       "    </tr>\n",
       "  </thead>\n",
       "  <tbody>\n",
       "    <tr>\n",
       "      <th>500.0</th>\n",
       "      <td>17</td>\n",
       "    </tr>\n",
       "    <tr>\n",
       "      <th>1500.0</th>\n",
       "      <td>8</td>\n",
       "    </tr>\n",
       "    <tr>\n",
       "      <th>2500.0</th>\n",
       "      <td>3</td>\n",
       "    </tr>\n",
       "    <tr>\n",
       "      <th>3500.0</th>\n",
       "      <td>1</td>\n",
       "    </tr>\n",
       "    <tr>\n",
       "      <th>4500.0</th>\n",
       "      <td>1</td>\n",
       "    </tr>\n",
       "    <tr>\n",
       "      <th>6250.0</th>\n",
       "      <td>5</td>\n",
       "    </tr>\n",
       "    <tr>\n",
       "      <th>8750.0</th>\n",
       "      <td>7</td>\n",
       "    </tr>\n",
       "    <tr>\n",
       "      <th>12500.0</th>\n",
       "      <td>12</td>\n",
       "    </tr>\n",
       "    <tr>\n",
       "      <th>17500.0</th>\n",
       "      <td>5</td>\n",
       "    </tr>\n",
       "    <tr>\n",
       "      <th>22500.0</th>\n",
       "      <td>4</td>\n",
       "    </tr>\n",
       "    <tr>\n",
       "      <th>27500.0</th>\n",
       "      <td>5</td>\n",
       "    </tr>\n",
       "    <tr>\n",
       "      <th>35000.0</th>\n",
       "      <td>4</td>\n",
       "    </tr>\n",
       "    <tr>\n",
       "      <th>45000.0</th>\n",
       "      <td>8</td>\n",
       "    </tr>\n",
       "    <tr>\n",
       "      <th>55000.0</th>\n",
       "      <td>5</td>\n",
       "    </tr>\n",
       "    <tr>\n",
       "      <th>65000.0</th>\n",
       "      <td>2</td>\n",
       "    </tr>\n",
       "    <tr>\n",
       "      <th>75000.0</th>\n",
       "      <td>3</td>\n",
       "    </tr>\n",
       "    <tr>\n",
       "      <th>95000.0</th>\n",
       "      <td>1</td>\n",
       "    </tr>\n",
       "    <tr>\n",
       "      <th>112500.0</th>\n",
       "      <td>1</td>\n",
       "    </tr>\n",
       "  </tbody>\n",
       "</table>\n",
       "</div>"
      ],
      "text/plain": [
       "                      Q4\n",
       "average_compensation    \n",
       "500.0                 17\n",
       "1500.0                 8\n",
       "2500.0                 3\n",
       "3500.0                 1\n",
       "4500.0                 1\n",
       "6250.0                 5\n",
       "8750.0                 7\n",
       "12500.0               12\n",
       "17500.0                5\n",
       "22500.0                4\n",
       "27500.0                5\n",
       "35000.0                4\n",
       "45000.0                8\n",
       "55000.0                5\n",
       "65000.0                2\n",
       "75000.0                3\n",
       "95000.0                1\n",
       "112500.0               1"
      ]
     },
     "execution_count": 34,
     "metadata": {},
     "output_type": "execute_result"
    }
   ],
   "source": [
    "data[['average_compensation', 'Q4']].query(\"Q4 == 'Russia'\").groupby('average_compensation').count()"
   ]
  },
  {
   "cell_type": "code",
   "execution_count": 35,
   "metadata": {
    "tags": []
   },
   "outputs": [
    {
     "data": {
      "text/plain": [
       "average_compensation\n",
       "500.0        1112\n",
       "12500.0       493\n",
       "35000.0       464\n",
       "1500.0        444\n",
       "45000.0       421\n",
       "112500.0      404\n",
       "6250.0        391\n",
       "55000.0       366\n",
       "8750.0        362\n",
       "175000.0      342\n",
       "22500.0       337\n",
       "65000.0       318\n",
       "17500.0       299\n",
       "75000.0       289\n",
       "27500.0       277\n",
       "2500.0        271\n",
       "137500.0      269\n",
       "3500.0        244\n",
       "4500.0        234\n",
       "85000.0       222\n",
       "95000.0       197\n",
       "225000.0      155\n",
       "275000.0       78\n",
       "400000.0       76\n",
       "750000.0       48\n",
       "1000000.0      23\n",
       "Name: count, dtype: int64"
      ]
     },
     "execution_count": 35,
     "metadata": {},
     "output_type": "execute_result"
    }
   ],
   "source": [
    "data['average_compensation'].value_counts()"
   ]
  },
  {
   "cell_type": "code",
   "execution_count": null,
   "metadata": {},
   "outputs": [],
   "source": []
  }
 ],
 "metadata": {
  "kernelspec": {
   "display_name": "Python 3 (ipykernel)",
   "language": "python",
   "name": "python3"
  },
  "language_info": {
   "codemirror_mode": {
    "name": "ipython",
    "version": 3
   },
   "file_extension": ".py",
   "mimetype": "text/x-python",
   "name": "python",
   "nbconvert_exporter": "python",
   "pygments_lexer": "ipython3",
   "version": "3.10.11"
  }
 },
 "nbformat": 4,
 "nbformat_minor": 4
}
