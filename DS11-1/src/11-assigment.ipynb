{
 "cells": [
  {
   "attachments": {},
   "cell_type": "markdown",
   "id": "7da6badd",
   "metadata": {},
   "source": [
    "# Задания"
   ]
  },
  {
   "cell_type": "code",
   "execution_count": 1,
   "id": "a5684e7c",
   "metadata": {},
   "outputs": [
    {
     "data": {
      "text/plain": [
       "'ru_RU.UTF-8'"
      ]
     },
     "execution_count": 1,
     "metadata": {},
     "output_type": "execute_result"
    }
   ],
   "source": [
    "import numpy as np\n",
    "import pandas as pd\n",
    "import matplotlib.pyplot as plt\n",
    "import locale\n",
    "\n",
    "locale.setlocale(locale.LC_TIME, 'ru_RU.UTF-8')"
   ]
  },
  {
   "attachments": {},
   "cell_type": "markdown",
   "id": "a788fc8d",
   "metadata": {},
   "source": [
    "## Доверительные интервалы"
   ]
  },
  {
   "attachments": {},
   "cell_type": "markdown",
   "id": "28ef55c5",
   "metadata": {},
   "source": [
    "### Задание 1"
   ]
  },
  {
   "attachments": {},
   "cell_type": "markdown",
   "id": "84673cba",
   "metadata": {},
   "source": [
    "Построй диаграмму зависимости количества проданной пиццы от дня недели.\n",
    "Вывести дни недели, в которые продано **больше** и  **меньше** всего пиццы."
   ]
  },
  {
   "cell_type": "code",
   "execution_count": 2,
   "id": "aaae64d7",
   "metadata": {},
   "outputs": [
    {
     "name": "stderr",
     "output_type": "stream",
     "text": [
      "/tmp/ipykernel_118485/641889714.py:1: UserWarning: Could not infer format, so each element will be parsed individually, falling back to `dateutil`. To ensure parsing is consistent and as-expected, please specify a format.\n",
      "  df = pd.read_csv('../datasets/pizza.csv', low_memory=False, sep=';',\n"
     ]
    }
   ],
   "source": [
    "df = pd.read_csv('../datasets/pizza.csv', low_memory=False, sep=';',\n",
    "                 parse_dates={'order_dt': ['order_date', 'order_time']})\n",
    "df['lead_time'] = pd.to_datetime(df.lead_time)\n",
    "df['cook_time'] = df.lead_time - df.order_dt\n",
    "df.cook_time = df.cook_time.dt.total_seconds()\n",
    "df['order_dt'].dt.to_period('W').dt.to_timestamp()\n",
    "df['weekday'] = df.order_dt.dt.strftime('%A')\n",
    "df['wd_num'] = [x if x > '0' else '7' for x in df.order_dt.dt.strftime('%w')]"
   ]
  },
  {
   "cell_type": "code",
   "execution_count": 3,
   "id": "edd3dcdb",
   "metadata": {},
   "outputs": [
    {
     "data": {
      "text/html": [
       "<div>\n",
       "<style scoped>\n",
       "    .dataframe tbody tr th:only-of-type {\n",
       "        vertical-align: middle;\n",
       "    }\n",
       "\n",
       "    .dataframe tbody tr th {\n",
       "        vertical-align: top;\n",
       "    }\n",
       "\n",
       "    .dataframe thead th {\n",
       "        text-align: right;\n",
       "    }\n",
       "</style>\n",
       "<table border=\"1\" class=\"dataframe\">\n",
       "  <thead>\n",
       "    <tr style=\"text-align: right;\">\n",
       "      <th></th>\n",
       "      <th>order_dt</th>\n",
       "      <th>order_details_id</th>\n",
       "      <th>order_id</th>\n",
       "      <th>pizza_id</th>\n",
       "      <th>unit_price</th>\n",
       "      <th>total_price</th>\n",
       "      <th>pizza_size</th>\n",
       "      <th>pizza_category</th>\n",
       "      <th>pizza_ingredients</th>\n",
       "      <th>pizza_name</th>\n",
       "      <th>lead_time</th>\n",
       "      <th>cook_time</th>\n",
       "      <th>weekday</th>\n",
       "      <th>wd_num</th>\n",
       "    </tr>\n",
       "  </thead>\n",
       "  <tbody>\n",
       "    <tr>\n",
       "      <th>0</th>\n",
       "      <td>2015-01-01 11:38:36</td>\n",
       "      <td>1</td>\n",
       "      <td>1</td>\n",
       "      <td>hawaiian_m</td>\n",
       "      <td>13,25</td>\n",
       "      <td>13,25</td>\n",
       "      <td>M</td>\n",
       "      <td>Classic</td>\n",
       "      <td>Sliced Ham, Pineapple, Mozzarella Cheese</td>\n",
       "      <td>The Hawaiian Pizza</td>\n",
       "      <td>2015-01-01 11:53:30</td>\n",
       "      <td>894.0</td>\n",
       "      <td>Четверг</td>\n",
       "      <td>4</td>\n",
       "    </tr>\n",
       "    <tr>\n",
       "      <th>1</th>\n",
       "      <td>2015-01-01 11:57:40</td>\n",
       "      <td>2</td>\n",
       "      <td>2</td>\n",
       "      <td>classic_dlx_m</td>\n",
       "      <td>16</td>\n",
       "      <td>16</td>\n",
       "      <td>M</td>\n",
       "      <td>Classic</td>\n",
       "      <td>Pepperoni, Mushrooms, Red Onions, Red Peppers,...</td>\n",
       "      <td>The Classic Deluxe Pizza</td>\n",
       "      <td>2015-01-01 12:16:26</td>\n",
       "      <td>1126.0</td>\n",
       "      <td>Четверг</td>\n",
       "      <td>4</td>\n",
       "    </tr>\n",
       "    <tr>\n",
       "      <th>2</th>\n",
       "      <td>2015-01-01 11:57:40</td>\n",
       "      <td>3</td>\n",
       "      <td>2</td>\n",
       "      <td>five_cheese_l</td>\n",
       "      <td>18,5</td>\n",
       "      <td>18,5</td>\n",
       "      <td>L</td>\n",
       "      <td>Veggie</td>\n",
       "      <td>Mozzarella Cheese, Provolone Cheese, Smoked Go...</td>\n",
       "      <td>The Five Cheese Pizza</td>\n",
       "      <td>2015-01-01 12:16:19</td>\n",
       "      <td>1119.0</td>\n",
       "      <td>Четверг</td>\n",
       "      <td>4</td>\n",
       "    </tr>\n",
       "    <tr>\n",
       "      <th>3</th>\n",
       "      <td>2015-01-01 11:57:40</td>\n",
       "      <td>4</td>\n",
       "      <td>2</td>\n",
       "      <td>ital_supr_l</td>\n",
       "      <td>20,75</td>\n",
       "      <td>20,75</td>\n",
       "      <td>L</td>\n",
       "      <td>Supreme</td>\n",
       "      <td>Calabrese Salami, Capocollo, Tomatoes, Red Oni...</td>\n",
       "      <td>The Italian Supreme Pizza</td>\n",
       "      <td>2015-01-01 12:10:58</td>\n",
       "      <td>798.0</td>\n",
       "      <td>Четверг</td>\n",
       "      <td>4</td>\n",
       "    </tr>\n",
       "    <tr>\n",
       "      <th>4</th>\n",
       "      <td>2015-01-01 11:57:40</td>\n",
       "      <td>5</td>\n",
       "      <td>2</td>\n",
       "      <td>mexicana_m</td>\n",
       "      <td>16</td>\n",
       "      <td>16</td>\n",
       "      <td>M</td>\n",
       "      <td>Veggie</td>\n",
       "      <td>Tomatoes, Red Peppers, Jalapeno Peppers, Red O...</td>\n",
       "      <td>The Mexicana Pizza</td>\n",
       "      <td>2015-01-01 12:14:24</td>\n",
       "      <td>1004.0</td>\n",
       "      <td>Четверг</td>\n",
       "      <td>4</td>\n",
       "    </tr>\n",
       "  </tbody>\n",
       "</table>\n",
       "</div>"
      ],
      "text/plain": [
       "             order_dt  order_details_id  order_id       pizza_id unit_price  \\\n",
       "0 2015-01-01 11:38:36                 1         1     hawaiian_m      13,25   \n",
       "1 2015-01-01 11:57:40                 2         2  classic_dlx_m         16   \n",
       "2 2015-01-01 11:57:40                 3         2  five_cheese_l       18,5   \n",
       "3 2015-01-01 11:57:40                 4         2    ital_supr_l      20,75   \n",
       "4 2015-01-01 11:57:40                 5         2     mexicana_m         16   \n",
       "\n",
       "  total_price pizza_size pizza_category  \\\n",
       "0       13,25          M        Classic   \n",
       "1          16          M        Classic   \n",
       "2        18,5          L         Veggie   \n",
       "3       20,75          L        Supreme   \n",
       "4          16          M         Veggie   \n",
       "\n",
       "                                   pizza_ingredients  \\\n",
       "0           Sliced Ham, Pineapple, Mozzarella Cheese   \n",
       "1  Pepperoni, Mushrooms, Red Onions, Red Peppers,...   \n",
       "2  Mozzarella Cheese, Provolone Cheese, Smoked Go...   \n",
       "3  Calabrese Salami, Capocollo, Tomatoes, Red Oni...   \n",
       "4  Tomatoes, Red Peppers, Jalapeno Peppers, Red O...   \n",
       "\n",
       "                  pizza_name           lead_time  cook_time  weekday wd_num  \n",
       "0         The Hawaiian Pizza 2015-01-01 11:53:30      894.0  Четверг      4  \n",
       "1   The Classic Deluxe Pizza 2015-01-01 12:16:26     1126.0  Четверг      4  \n",
       "2      The Five Cheese Pizza 2015-01-01 12:16:19     1119.0  Четверг      4  \n",
       "3  The Italian Supreme Pizza 2015-01-01 12:10:58      798.0  Четверг      4  \n",
       "4         The Mexicana Pizza 2015-01-01 12:14:24     1004.0  Четверг      4  "
      ]
     },
     "execution_count": 3,
     "metadata": {},
     "output_type": "execute_result"
    }
   ],
   "source": [
    "df[:5]"
   ]
  },
  {
   "cell_type": "code",
   "execution_count": 4,
   "id": "99d48473",
   "metadata": {},
   "outputs": [
    {
     "data": {
      "text/html": [
       "<div>\n",
       "<style scoped>\n",
       "    .dataframe tbody tr th:only-of-type {\n",
       "        vertical-align: middle;\n",
       "    }\n",
       "\n",
       "    .dataframe tbody tr th {\n",
       "        vertical-align: top;\n",
       "    }\n",
       "\n",
       "    .dataframe thead th {\n",
       "        text-align: right;\n",
       "    }\n",
       "</style>\n",
       "<table border=\"1\" class=\"dataframe\">\n",
       "  <thead>\n",
       "    <tr style=\"text-align: right;\">\n",
       "      <th></th>\n",
       "      <th>wd_num</th>\n",
       "      <th>weekday</th>\n",
       "      <th>pizza_id</th>\n",
       "    </tr>\n",
       "  </thead>\n",
       "  <tbody>\n",
       "    <tr>\n",
       "      <th>0</th>\n",
       "      <td>1</td>\n",
       "      <td>Понедельник</td>\n",
       "      <td>634</td>\n",
       "    </tr>\n",
       "    <tr>\n",
       "      <th>1</th>\n",
       "      <td>2</td>\n",
       "      <td>Вторник</td>\n",
       "      <td>702</td>\n",
       "    </tr>\n",
       "    <tr>\n",
       "      <th>2</th>\n",
       "      <td>3</td>\n",
       "      <td>Среда</td>\n",
       "      <td>655</td>\n",
       "    </tr>\n",
       "    <tr>\n",
       "      <th>3</th>\n",
       "      <td>4</td>\n",
       "      <td>Четверг</td>\n",
       "      <td>857</td>\n",
       "    </tr>\n",
       "    <tr>\n",
       "      <th>4</th>\n",
       "      <td>5</td>\n",
       "      <td>Пятница</td>\n",
       "      <td>818</td>\n",
       "    </tr>\n",
       "    <tr>\n",
       "      <th>5</th>\n",
       "      <td>6</td>\n",
       "      <td>Суббота</td>\n",
       "      <td>706</td>\n",
       "    </tr>\n",
       "    <tr>\n",
       "      <th>6</th>\n",
       "      <td>7</td>\n",
       "      <td>Воскресенье</td>\n",
       "      <td>628</td>\n",
       "    </tr>\n",
       "  </tbody>\n",
       "</table>\n",
       "</div>"
      ],
      "text/plain": [
       "  wd_num      weekday  pizza_id\n",
       "0      1  Понедельник       634\n",
       "1      2      Вторник       702\n",
       "2      3        Среда       655\n",
       "3      4      Четверг       857\n",
       "4      5      Пятница       818\n",
       "5      6      Суббота       706\n",
       "6      7  Воскресенье       628"
      ]
     },
     "execution_count": 4,
     "metadata": {},
     "output_type": "execute_result"
    }
   ],
   "source": [
    "df1 = df[['wd_num', 'weekday', 'pizza_id']]\\\n",
    "    .groupby(['wd_num', 'weekday'])\\\n",
    "    .agg('count').sort_values('wd_num').copy()\n",
    "df1.reset_index(inplace=True)\n",
    "# df1.drop('wd_num', axis=1, inplace=True)\n",
    "# df1.set_index('pizza_id', inplace=True)\n",
    "df1"
   ]
  },
  {
   "cell_type": "code",
   "execution_count": 5,
   "id": "866e9dfc",
   "metadata": {},
   "outputs": [
    {
     "data": {
      "text/plain": [
       "[(0.0, 950.0)]"
      ]
     },
     "execution_count": 5,
     "metadata": {},
     "output_type": "execute_result"
    },
    {
     "data": {
      "image/png": "[encoded data removed]",
      "text/plain": [
       "<Figure size 1000x400 with 1 Axes>"
      ]
     },
     "metadata": {},
     "output_type": "display_data"
    }
   ],
   "source": [
    "fig1, ax1 = plt.subplots(figsize=(10, 4))\n",
    "plt.bar(df1.weekday,\n",
    "        df1.pizza_id)\n",
    "ax1.set_xlabel('День недели')\n",
    "ax1.set_ylabel('Количество заказов')\n",
    "ax1.bar_label(ax1.containers[0])\n",
    "ax1.tick_params(axis='x', labelsize='x-small')\n",
    "ax1.set_title('Минимум заказов: '+df1[df1['pizza_id'] == df1['pizza_id'].\n",
    "                                      min()]['weekday'].iloc[0]+'\\n' +\n",
    "              'Максимум заказов: ' + df1[df1['pizza_id'] == df1['pizza_id'].\n",
    "                                         max()]['weekday'].iloc[0])\n",
    "ax1.set(ylim=(0, 950))"
   ]
  },
  {
   "attachments": {},
   "cell_type": "markdown",
   "id": "76d81b7e",
   "metadata": {},
   "source": [
    "### Задание 2"
   ]
  },
  {
   "attachments": {},
   "cell_type": "markdown",
   "id": "9aaf3a6e",
   "metadata": {},
   "source": [
    "Посчитай, сколько **секунд** необходимо для приготовления каждой пиццы по всем заказам. Значения сохранить в новый столбец - `cook_time`. Найти среднее, медианное, максимальное и минимальное время приготовления пиццы. Результат округлите до целого."
   ]
  },
  {
   "cell_type": "code",
   "execution_count": 6,
   "id": "cf58a66c",
   "metadata": {},
   "outputs": [
    {
     "name": "stdout",
     "output_type": "stream",
     "text": [
      "Среднее: 1007.0\n",
      "Медианное: 1006.0\n",
      "Минимальное: 444.0\n",
      "Максимальное: 1609.0\n"
     ]
    }
   ],
   "source": [
    "print('Среднее:', df.cook_time.mean().round())\n",
    "print('Медианное:', df.cook_time.median().round())\n",
    "print('Минимальное:', df.cook_time.min().round())\n",
    "print('Максимальное:', df.cook_time.max().round())"
   ]
  },
  {
   "attachments": {},
   "cell_type": "markdown",
   "id": "e3ddd404",
   "metadata": {},
   "source": [
    "### Задание 3"
   ]
  },
  {
   "attachments": {},
   "cell_type": "markdown",
   "id": "666426b6",
   "metadata": {},
   "source": [
    "Построй 95% доверительный интервал для среднего времени приготовления пиццы в **секундах**. Интервал округли до целого\n",
    "> Для расчета стандартного отклонения используй `numpy.std(ddof=1)`"
   ]
  },
  {
   "attachments": {},
   "cell_type": "markdown",
   "id": "b3105312",
   "metadata": {},
   "source": [
    "Формула доверительного интервала: $CI = \\bar{x} \\pm z \\frac{s}{\\sqrt{n}}$,\n",
    "где: \n",
    "- CI - доверительный интервал\n",
    "- x - выборочное среднее значение\n",
    "- z - значение уровня достоверности \n",
    "- s - стандартное отклонение выборки\n",
    "- n - размер выборки"
   ]
  },
  {
   "cell_type": "code",
   "execution_count": 7,
   "id": "05fbb9d2",
   "metadata": {},
   "outputs": [],
   "source": [
    "import scipy.stats as st\n",
    "\n",
    "\n",
    "def confidence_int(data, z=0.95):\n",
    "    n = len(data)\n",
    "    x = np.mean(data)\n",
    "    s = np.std(data, ddof=1)\n",
    "    dev = (s / np.sqrt(n))\n",
    "    int1, int2 = st.norm.interval(confidence=z, loc=x, scale=dev)\n",
    "    return round(int1), round(int2)"
   ]
  },
  {
   "cell_type": "code",
   "execution_count": 8,
   "id": "19ad0fd4",
   "metadata": {},
   "outputs": [
    {
     "data": {
      "text/plain": [
       "(1002, 1012)"
      ]
     },
     "execution_count": 8,
     "metadata": {},
     "output_type": "execute_result"
    }
   ],
   "source": [
    "confidence_int(df.cook_time, 0.95)"
   ]
  },
  {
   "attachments": {},
   "cell_type": "markdown",
   "id": "5ee86693",
   "metadata": {},
   "source": [
    "### Задание 4"
   ]
  },
  {
   "attachments": {},
   "cell_type": "markdown",
   "id": "7de38e4e",
   "metadata": {},
   "source": [
    "Хозяин ресторана хочет оптимизировать меню ресторана. При формировании цены на пиццу хозяин хочет учитывать время \n",
    "её изготовления. Давай найдем ту пиццу (pizza_name), у которой верхняя граница доверительного интервала её изготовления \n",
    "самая высокая.\n",
    "> Среди пицц, у которых за все время заказывали более 100 штук"
   ]
  },
  {
   "cell_type": "code",
   "execution_count": 9,
   "id": "522c8330",
   "metadata": {},
   "outputs": [],
   "source": [
    "df2 = df[df['pizza_name'].map(df['pizza_name'].value_counts()) > 100]"
   ]
  },
  {
   "cell_type": "code",
   "execution_count": 10,
   "id": "b2b2195d",
   "metadata": {},
   "outputs": [
    {
     "data": {
      "text/plain": [
       "(4427, 14)"
      ]
     },
     "execution_count": 10,
     "metadata": {},
     "output_type": "execute_result"
    }
   ],
   "source": [
    "df2.shape"
   ]
  },
  {
   "cell_type": "code",
   "execution_count": 11,
   "id": "8a581323",
   "metadata": {},
   "outputs": [
    {
     "data": {
      "text/plain": [
       "'The Italian Vegetables Pizza'"
      ]
     },
     "execution_count": 11,
     "metadata": {},
     "output_type": "execute_result"
    }
   ],
   "source": [
    "df3 = df2[['pizza_name', 'cook_time']].groupby(\n",
    "    'pizza_name').agg(confidence_int).reset_index()\n",
    "df3[df3.cook_time == df3['cook_time'].max()]['pizza_name'].iloc[0]"
   ]
  },
  {
   "attachments": {},
   "cell_type": "markdown",
   "id": "f81baa2f",
   "metadata": {},
   "source": [
    "### Задание 5"
   ]
  },
  {
   "attachments": {},
   "cell_type": "markdown",
   "id": "005c00f5",
   "metadata": {},
   "source": [
    "Также хозяину ресторана хочется убрать из меню пиццы с нестабильным временем изготовления. \n",
    "Давай найдем пиццу с самым широким доверительным интервалом.\n",
    "> Среди пицц, у которых за все время заказывали более 100 штук"
   ]
  },
  {
   "cell_type": "code",
   "execution_count": 12,
   "id": "757b9c65",
   "metadata": {},
   "outputs": [],
   "source": [
    "df3['int'] = df3['cook_time'].apply(lambda x: int(x[1]) - int(x[0]))"
   ]
  },
  {
   "cell_type": "code",
   "execution_count": 13,
   "id": "8d429f37",
   "metadata": {},
   "outputs": [
    {
     "data": {
      "text/plain": [
       "'The Chicken Alfredo Pizza'"
      ]
     },
     "execution_count": 13,
     "metadata": {},
     "output_type": "execute_result"
    }
   ],
   "source": [
    "df3[df3.int == df3['int'].max()]['pizza_name'].iloc[0]"
   ]
  },
  {
   "attachments": {},
   "cell_type": "markdown",
   "id": "b28393c5",
   "metadata": {},
   "source": [
    "## AB тестирование"
   ]
  },
  {
   "attachments": {},
   "cell_type": "markdown",
   "id": "9dc3e5a8",
   "metadata": {},
   "source": [
    "### Задание 6"
   ]
  },
  {
   "attachments": {},
   "cell_type": "markdown",
   "id": "028eddf8",
   "metadata": {},
   "source": [
    "В качестве нулевой гипотезы (H0) выберем, что старый баннер лучше нового.  В качестве альтернативной гипотезы (H1) выберем, \n",
    "что новый баннер лучше старого. Построй 95% доверительный интервал для доли каждого из баннеров, используя метод \n",
    "[proportion_confint](https://www.statsmodels.org/devel/generated/statsmodels.stats.proportion.proportion_confint.html)\n",
    "библиотеки statsmodels. Пересекаются ли эти интервалы?"
   ]
  },
  {
   "cell_type": "code",
   "execution_count": 14,
   "id": "8b30b379",
   "metadata": {},
   "outputs": [
    {
     "data": {
      "text/html": [
       "<div>\n",
       "<style scoped>\n",
       "    .dataframe tbody tr th:only-of-type {\n",
       "        vertical-align: middle;\n",
       "    }\n",
       "\n",
       "    .dataframe tbody tr th {\n",
       "        vertical-align: top;\n",
       "    }\n",
       "\n",
       "    .dataframe thead th {\n",
       "        text-align: right;\n",
       "    }\n",
       "</style>\n",
       "<table border=\"1\" class=\"dataframe\">\n",
       "  <thead>\n",
       "    <tr style=\"text-align: right;\">\n",
       "      <th></th>\n",
       "      <th>banner_a</th>\n",
       "      <th>banner_b</th>\n",
       "    </tr>\n",
       "  </thead>\n",
       "  <tbody>\n",
       "    <tr>\n",
       "      <th>0</th>\n",
       "      <td>0</td>\n",
       "      <td>0</td>\n",
       "    </tr>\n",
       "    <tr>\n",
       "      <th>1</th>\n",
       "      <td>1</td>\n",
       "      <td>1</td>\n",
       "    </tr>\n",
       "    <tr>\n",
       "      <th>2</th>\n",
       "      <td>0</td>\n",
       "      <td>0</td>\n",
       "    </tr>\n",
       "  </tbody>\n",
       "</table>\n",
       "</div>"
      ],
      "text/plain": [
       "   banner_a  banner_b\n",
       "0         0         0\n",
       "1         1         1\n",
       "2         0         0"
      ]
     },
     "execution_count": 14,
     "metadata": {},
     "output_type": "execute_result"
    }
   ],
   "source": [
    "from statsmodels.stats.proportion import proportion_confint\n",
    "df4 = pd.read_csv('../datasets/click.csv')\n",
    "# ={'order_dt': ['order_date', 'order_time']})\n",
    "df4.head(3)"
   ]
  },
  {
   "cell_type": "code",
   "execution_count": 15,
   "id": "15a6cb94",
   "metadata": {},
   "outputs": [
    {
     "data": {
      "text/plain": [
       "(0.02530064022092865, 0.04869935977907135)"
      ]
     },
     "execution_count": 15,
     "metadata": {},
     "output_type": "execute_result"
    }
   ],
   "source": [
    "h0_low, h0_upp = proportion_confint(\n",
    "    df4['banner_a'].sum(), df4['banner_a'].count())\n",
    "h0_low, h0_upp"
   ]
  },
  {
   "cell_type": "code",
   "execution_count": 16,
   "id": "e997aaf4",
   "metadata": {},
   "outputs": [
    {
     "data": {
      "text/plain": [
       "(0.03911451622486782, 0.06688548377513218)"
      ]
     },
     "execution_count": 16,
     "metadata": {},
     "output_type": "execute_result"
    }
   ],
   "source": [
    "h1_low, h1_upp = proportion_confint(\n",
    "    df4['banner_b'].sum(), df4['banner_b'].count())\n",
    "h1_low, h1_upp"
   ]
  },
  {
   "cell_type": "code",
   "execution_count": 17,
   "id": "284aa83e",
   "metadata": {},
   "outputs": [
    {
     "name": "stdout",
     "output_type": "stream",
     "text": [
      "Пересекаются\n"
     ]
    }
   ],
   "source": [
    "print(['Пересекаются', 'Не пересекаются']\n",
    "      [max(h0_low, h1_low) > min(h0_upp, h1_upp)])"
   ]
  },
  {
   "attachments": {},
   "cell_type": "markdown",
   "id": "84ac442f",
   "metadata": {},
   "source": [
    "### Задание 7"
   ]
  },
  {
   "attachments": {},
   "cell_type": "markdown",
   "id": "8d760d69",
   "metadata": {},
   "source": [
    "Для более детальной оценки построй 95% доверительный интервал для разности двух долей.\n",
    "**Ответ дай в формате:**\\\n",
    "95% доверительный интервал для разности двух долей: [0.99847, 9.99847]"
   ]
  },
  {
   "attachments": {},
   "cell_type": "markdown",
   "id": "2f34dfbc",
   "metadata": {},
   "source": [
    "Левая и правая границы доверительного интервала рассчитываются по формулам:\n",
    "$$p_a - p_b \\pm z * \\sqrt{\\frac{p_a(1 - p_a)}{n_a} + \\frac{p_b(1 - p_b)}{n_b}}$$\n",
    "Где\n",
    "\n",
    "$p_a = \\frac{n_{like(a)}}{n_{a}}$,\n",
    "\n",
    "$p_b = \\frac{n_{like(b)}}{n_{b}}$,\n",
    "\n",
    "$z = 1-\\frac{\\alpha}{2}$ (используй scipy.stats.norm.ppf)\n",
    "\n",
    "$n_a$ - общее количество кликов по баннеру а\n",
    "\n",
    "$n_b$ - общее количество кликов по баннеру b\n",
    "\n",
    "$n_{like(a)}$ - количество лайков по баннеру а\n",
    "\n",
    "$n_{like(b)}$ - количество лайков по баннеру b"
   ]
  },
  {
   "cell_type": "code",
   "execution_count": 18,
   "id": "aa51d523",
   "metadata": {},
   "outputs": [
    {
     "data": {
      "text/plain": [
       "(-0.0341571385110543, 0.002157138511054299)"
      ]
     },
     "execution_count": 18,
     "metadata": {},
     "output_type": "execute_result"
    }
   ],
   "source": [
    "n_like_a = df4['banner_a'].sum()\n",
    "n_like_b = df4['banner_b'].sum()\n",
    "n_a = df4['banner_a'].count()\n",
    "n_b = df4['banner_b'].count()\n",
    "p_a = n_like_a / n_a\n",
    "p_b = n_like_b / n_b\n",
    "z = st.norm.ppf(1 - 0.05 / 2)\n",
    "dif_low = p_a - p_b - z * ((p_a * (1 - p_a)) / n_a +\n",
    "                           (p_b * (1 - p_b)) / n_b) ** 0.5\n",
    "dif_upp = p_a - p_b + z * ((p_a * (1 - p_a)) / n_a +\n",
    "                           (p_b * (1 - p_b)) / n_b) ** 0.5\n",
    "dif_low, dif_upp"
   ]
  },
  {
   "attachments": {},
   "cell_type": "markdown",
   "id": "adda94db",
   "metadata": {},
   "source": [
    "### Задание 8"
   ]
  },
  {
   "attachments": {},
   "cell_type": "markdown",
   "id": "b9f88120",
   "metadata": {},
   "source": [
    "Проведи АБ-тест. Какой баннер лучше? H0 - Старый баннер или H1 - новый баннер.\n",
    "В этом тебе поможем функция [z-критерия](../code-samples/stats.py)."
   ]
  },
  {
   "attachments": {},
   "cell_type": "markdown",
   "id": "771558cb",
   "metadata": {},
   "source": [
    "$$Z({X_1, X_2}) =  \\frac{p_a - p_b}{\\sqrt{P(1 - P)(\\frac{1}{n_a} + \\frac{1}{n_b})}}$$\n",
    "$$P = \\frac{p_a{n_a} + p_b{n_b}}{{n_a} + {n_b}} $$\n",
    "\n",
    "$p_a, p_b = \\frac{∑кликов}{n}$, n - общее количество кликов по баннеру\n",
    "\n",
    "$n_a$ - общее количество кликов по баннеру а\n",
    "\n",
    "$n_b$ - общее количество кликов по баннеру b"
   ]
  },
  {
   "cell_type": "code",
   "execution_count": 19,
   "id": "c4349f01",
   "metadata": {},
   "outputs": [],
   "source": [
    "def z_stat(sample1, sample2):\n",
    "    n_a = len(sample1)\n",
    "    n_b = len(sample2)\n",
    "\n",
    "    p_a = float(sum(sample1)) / n_a\n",
    "    p_b = float(sum(sample2)) / n_b\n",
    "    P = float(p_a * n_a + p_b * n_b) / (n_a + n_b)\n",
    "\n",
    "    return (p_a - p_b) / np.sqrt(P * (1 - P) * (1. / n_a + 1. / n_b))"
   ]
  },
  {
   "attachments": {},
   "cell_type": "markdown",
   "id": "bc75dfbd",
   "metadata": {},
   "source": [
    "Проверка гипотезы H0, что старый баннер лучше."
   ]
  },
  {
   "cell_type": "code",
   "execution_count": 20,
   "id": "b12d59dd",
   "metadata": {},
   "outputs": [
    {
     "data": {
      "text/plain": [
       "-1.7258261378415294"
      ]
     },
     "execution_count": 20,
     "metadata": {},
     "output_type": "execute_result"
    }
   ],
   "source": [
    "z_stat(df4['banner_a'], df4['banner_b'])"
   ]
  },
  {
   "attachments": {},
   "cell_type": "markdown",
   "id": "0d568fe5",
   "metadata": {},
   "source": [
    "Неудачно.\n",
    "\n",
    "Проверка гипотезы H1, что новый баннер лучше."
   ]
  },
  {
   "cell_type": "code",
   "execution_count": 21,
   "id": "e3744822",
   "metadata": {},
   "outputs": [
    {
     "data": {
      "text/plain": [
       "1.7258261378415294"
      ]
     },
     "execution_count": 21,
     "metadata": {},
     "output_type": "execute_result"
    }
   ],
   "source": [
    "z_stat(df4['banner_b'], df4['banner_a'])"
   ]
  },
  {
   "attachments": {},
   "cell_type": "markdown",
   "id": "adf3cbc4",
   "metadata": {},
   "source": [
    "Успешно. "
   ]
  },
  {
   "attachments": {},
   "cell_type": "markdown",
   "id": "d4c0236a",
   "metadata": {},
   "source": [
    "Ответ: новый баннер нравится больше"
   ]
  },
  {
   "attachments": {},
   "cell_type": "markdown",
   "id": "c33139fd",
   "metadata": {},
   "source": [
    "## Корреляции"
   ]
  },
  {
   "attachments": {},
   "cell_type": "markdown",
   "id": "8a4a0430",
   "metadata": {},
   "source": [
    "### Задание 9"
   ]
  },
  {
   "attachments": {},
   "cell_type": "markdown",
   "id": "02de20e4",
   "metadata": {},
   "source": [
    "Прочитай про корреляции Пирсона и Спирмена. Узнай какие связи между выборками они способны находить. По сгенерированным выборкам посчитай коррелицию Пирсона и Спирмена для выборок `x-y1`, `x-y2`, `x-y3`. Отрисуй выборки в формате, как показано ниже:\n",
    "<img src=\"../misc/images/corr.png\">"
   ]
  },
  {
   "attachments": {},
   "cell_type": "markdown",
   "id": "313a15d6",
   "metadata": {},
   "source": [
    "Объясни, почему получается такое значение корреляций."
   ]
  },
  {
   "cell_type": "code",
   "execution_count": 22,
   "id": "5d260fe7",
   "metadata": {},
   "outputs": [],
   "source": [
    "x = np.linspace(-10, 10, 100)\n",
    "y1 = x ** 2\n",
    "y2 = -x ** 2\n",
    "y3 = np.log(x ** 2 + 1)"
   ]
  },
  {
   "cell_type": "code",
   "execution_count": 23,
   "id": "5bf4ed0a",
   "metadata": {},
   "outputs": [
    {
     "data": {
      "text/plain": [
       "Text(0.5, 1.0, 'Pearson correlation = 0.0\\nSpearman correlation = -0.0')"
      ]
     },
     "execution_count": 23,
     "metadata": {},
     "output_type": "execute_result"
    },
    {
     "data": {
      "image/png": "[encoded data removed]",
      "text/plain": [
       "<Figure size 1200x500 with 3 Axes>"
      ]
     },
     "metadata": {},
     "output_type": "display_data"
    }
   ],
   "source": [
    "fig, (ax1, ax2, ax3) = plt.subplots(1, 3, figsize=(12, 5))\n",
    "ax1.scatter(x, y1, s=1)\n",
    "ax1.set_title('Pearson correlation = {}\\nSpearman correlation = {}'.\n",
    "              format(round(st.pearsonr(x, y1)[0], 2), round(st.spearmanr(x, y1)[0], 2)))\n",
    "ax2.scatter(x, y2, s=1)\n",
    "ax2.set_title('Pearson correlation = {}\\nSpearman correlation = {}'.\n",
    "              format(round(st.pearsonr(x, y2)[0], 2), round(st.spearmanr(x, y2)[0], 2)))\n",
    "ax3.scatter(x, y3, s=1)\n",
    "ax3.set_title('Pearson correlation = {}\\nSpearman correlation = {}'.\n",
    "              format(round(st.pearsonr(x, y3)[0], 2), round(st.spearmanr(x, y3)[0],  2)))"
   ]
  },
  {
   "attachments": {},
   "cell_type": "markdown",
   "id": "a51a49e3",
   "metadata": {},
   "source": [
    "Ответ: Значение всех корреляций равно 0."
   ]
  },
  {
   "attachments": {},
   "cell_type": "markdown",
   "id": "4917b9fb",
   "metadata": {},
   "source": [
    "### Задание 10"
   ]
  },
  {
   "attachments": {},
   "cell_type": "markdown",
   "id": "8dc4910b",
   "metadata": {},
   "source": [
    "Построй облако из тысячи точек c помощью приведенного кода.\n",
    "Выведи значения коэффициентов корреляции.\n",
    "Случайным образом выбери четыре точки. Каждую из точек передвигать в правый верхний угол относительно облака точек \n",
    "(тем самым создавая выброс):\n",
    "значения по оси х 25, 50, 150, 650\n",
    "по оси y 20, 40, 60, 80.\n",
    "Выводи на графике перемещения точек.\n",
    "Для каждого расстояния рассчитай коэффициент корреляции Пирсона и Спирмана.\n",
    "Какая корреляция больше устойчива к выбросам?"
   ]
  },
  {
   "cell_type": "code",
   "execution_count": 24,
   "id": "7269946b",
   "metadata": {},
   "outputs": [],
   "source": [
    "step = np.linspace(-10, 0, 1000)\n",
    "x = -step + np.random.randn(1000) * 0.2\n",
    "y = step + np.random.randn(1000) * 0.2"
   ]
  },
  {
   "cell_type": "code",
   "execution_count": 25,
   "id": "5d5100ee",
   "metadata": {},
   "outputs": [
    {
     "data": {
      "text/plain": [
       "Text(0.5, 1.0, 'Pearson correlation = -1.0\\nSpearman correlation = -1.0')"
      ]
     },
     "execution_count": 25,
     "metadata": {},
     "output_type": "execute_result"
    },
    {
     "data": {
      "image/png": "[encoded data removed]",
      "text/plain": [
       "<Figure size 1200x500 with 1 Axes>"
      ]
     },
     "metadata": {},
     "output_type": "display_data"
    }
   ],
   "source": [
    "p1, s1 = st.pearsonr(x, y)[0], st.spearmanr(x, y)[0]\n",
    "fig, ax = plt.subplots(figsize=(12, 5))\n",
    "ax.scatter(x, y, s=1)\n",
    "ax.set_title('Pearson correlation = {}\\nSpearman correlation = {}'.format(round(p1, 2),\n",
    "                                                                          round(s1, 2)))"
   ]
  },
  {
   "cell_type": "code",
   "execution_count": 26,
   "id": "e862050d",
   "metadata": {},
   "outputs": [
    {
     "data": {
      "image/png": "[encoded data removed]",
      "text/plain": [
       "<Figure size 1200x500 with 4 Axes>"
      ]
     },
     "metadata": {},
     "output_type": "display_data"
    },
    {
     "data": {
      "image/png": "[encoded data removed]",
      "text/plain": [
       "<Figure size 1200x500 with 1 Axes>"
      ]
     },
     "metadata": {},
     "output_type": "display_data"
    }
   ],
   "source": [
    "n_rand4 = np.random.randint(0, 1000, 4)\n",
    "x_diff = [25, 50, 150, 650]\n",
    "y_diff = [20, 40, 60, 80]\n",
    "fig, ax = plt.subplots(1, 4, figsize=(12, 5))\n",
    "for n in range(4):\n",
    "    x1, y1 = x.copy(), y.copy()\n",
    "    ax[n].scatter(x1, y1)\n",
    "    ax[n].plot([x1[n_rand4[n]], x_diff[n]], [y1[n_rand4[n]], y_diff[n]], 'o-r')\n",
    "    x1[n_rand4[n]] = x_diff[n]\n",
    "    y1[n_rand4[n]] = y_diff[n]\n",
    "    p1, s1 = st.pearsonr(x1, y1)[0], st.spearmanr(x1, y1)[0]\n",
    "    ax[n].set_title('Pearson correlation = {}\\nSpearman correlation = {}'.\n",
    "                    format(round(p1, 2), round(s1, 2)), size='medium')\n",
    "fig, ax = plt.subplots(figsize=(12, 5))\n",
    "ax.scatter(x, y)\n",
    "for n in range(4):\n",
    "    ax.plot([x[n_rand4[n]], x_diff[n]], [y[n_rand4[n]], y_diff[n]], 'o-r')\n",
    "# plt.tight_layout()\n",
    "# plt.show()"
   ]
  },
  {
   "attachments": {},
   "cell_type": "markdown",
   "id": "f127d97d",
   "metadata": {},
   "source": [
    "Более устойчива корреляция Спирмана"
   ]
  }
 ],
 "metadata": {
  "kernelspec": {
   "display_name": "Python 3 (ipykernel)",
   "language": "python",
   "name": "python3"
  },
  "language_info": {
   "codemirror_mode": {
    "name": "ipython",
    "version": 3
   },
   "file_extension": ".py",
   "mimetype": "text/x-python",
   "name": "python",
   "nbconvert_exporter": "python",
   "pygments_lexer": "ipython3",
   "version": "3.10.11"
  }
 },
 "nbformat": 4,
 "nbformat_minor": 5
}
