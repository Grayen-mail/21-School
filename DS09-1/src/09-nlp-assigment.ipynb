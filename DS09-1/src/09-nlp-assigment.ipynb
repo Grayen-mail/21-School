{
 "cells": [
  {
   "attachments": {},
   "cell_type": "markdown",
   "id": "e73517c0-2692-4321-846c-9d8d61141d9a",
   "metadata": {},
   "source": [
    "# Natural language processing"
   ]
  },
  {
   "attachments": {},
   "cell_type": "markdown",
   "id": "bd08f95f-ff3d-41c2-aff8-a33c99136b40",
   "metadata": {},
   "source": [
    "## Task 1"
   ]
  },
  {
   "attachments": {},
   "cell_type": "markdown",
   "id": "100e1fc2-654c-4f05-8171-8ac4ca7d9acc",
   "metadata": {},
   "source": [
    "Загрузи датасет. Отрисуй Bar-plot с количеством комментариев для каждой категории токсичности \n",
    "и комментариев без токсичности.\n",
    "![sample](../misc/images/bar-plot.png)\n",
    "Выведи эти количества для каждой категории. "
   ]
  },
  {
   "cell_type": "code",
   "execution_count": 1,
   "id": "c53dce91-7c94-4d1f-9158-c9e8130b111d",
   "metadata": {},
   "outputs": [],
   "source": [
    "import pandas as pd\n",
    "import seaborn as sns"
   ]
  },
  {
   "cell_type": "code",
   "execution_count": 2,
   "id": "741b63e5",
   "metadata": {},
   "outputs": [
    {
     "data": {
      "text/plain": [
       "(Index(['id', 'comment_text', 'toxic', 'severe_toxic', 'obscene', 'threat',\n",
       "        'insult', 'identity_hate'],\n",
       "       dtype='object'),\n",
       " (159571, 8))"
      ]
     },
     "execution_count": 2,
     "metadata": {},
     "output_type": "execute_result"
    }
   ],
   "source": [
    "df_toxic = pd.read_csv('../datasets/toxic.csv')\n",
    "df_toxic.columns, df_toxic.shape"
   ]
  },
  {
   "cell_type": "code",
   "execution_count": 3,
   "id": "b40f6628",
   "metadata": {},
   "outputs": [
    {
     "data": {
      "text/html": [
       "<div>\n",
       "<style scoped>\n",
       "    .dataframe tbody tr th:only-of-type {\n",
       "        vertical-align: middle;\n",
       "    }\n",
       "\n",
       "    .dataframe tbody tr th {\n",
       "        vertical-align: top;\n",
       "    }\n",
       "\n",
       "    .dataframe thead th {\n",
       "        text-align: right;\n",
       "    }\n",
       "</style>\n",
       "<table border=\"1\" class=\"dataframe\">\n",
       "  <thead>\n",
       "    <tr style=\"text-align: right;\">\n",
       "      <th></th>\n",
       "      <th>id</th>\n",
       "      <th>comment_text</th>\n",
       "      <th>toxic</th>\n",
       "      <th>severe_toxic</th>\n",
       "      <th>obscene</th>\n",
       "      <th>threat</th>\n",
       "      <th>insult</th>\n",
       "      <th>identity_hate</th>\n",
       "    </tr>\n",
       "  </thead>\n",
       "  <tbody>\n",
       "    <tr>\n",
       "      <th>0</th>\n",
       "      <td>0000997932d777bf</td>\n",
       "      <td>Explanation\\nWhy the edits made under my usern...</td>\n",
       "      <td>0</td>\n",
       "      <td>0</td>\n",
       "      <td>0</td>\n",
       "      <td>0</td>\n",
       "      <td>0</td>\n",
       "      <td>0</td>\n",
       "    </tr>\n",
       "    <tr>\n",
       "      <th>1</th>\n",
       "      <td>000103f0d9cfb60f</td>\n",
       "      <td>D'aww! He matches this background colour I'm s...</td>\n",
       "      <td>0</td>\n",
       "      <td>0</td>\n",
       "      <td>0</td>\n",
       "      <td>0</td>\n",
       "      <td>0</td>\n",
       "      <td>0</td>\n",
       "    </tr>\n",
       "    <tr>\n",
       "      <th>2</th>\n",
       "      <td>000113f07ec002fd</td>\n",
       "      <td>Hey man, I'm really not trying to edit war. It...</td>\n",
       "      <td>0</td>\n",
       "      <td>0</td>\n",
       "      <td>0</td>\n",
       "      <td>0</td>\n",
       "      <td>0</td>\n",
       "      <td>0</td>\n",
       "    </tr>\n",
       "    <tr>\n",
       "      <th>3</th>\n",
       "      <td>0001b41b1c6bb37e</td>\n",
       "      <td>\"\\nMore\\nI can't make any real suggestions on ...</td>\n",
       "      <td>0</td>\n",
       "      <td>0</td>\n",
       "      <td>0</td>\n",
       "      <td>0</td>\n",
       "      <td>0</td>\n",
       "      <td>0</td>\n",
       "    </tr>\n",
       "    <tr>\n",
       "      <th>4</th>\n",
       "      <td>0001d958c54c6e35</td>\n",
       "      <td>You, sir, are my hero. Any chance you remember...</td>\n",
       "      <td>0</td>\n",
       "      <td>0</td>\n",
       "      <td>0</td>\n",
       "      <td>0</td>\n",
       "      <td>0</td>\n",
       "      <td>0</td>\n",
       "    </tr>\n",
       "  </tbody>\n",
       "</table>\n",
       "</div>"
      ],
      "text/plain": [
       "                 id                                       comment_text  toxic  \\\n",
       "0  0000997932d777bf  Explanation\\nWhy the edits made under my usern...      0   \n",
       "1  000103f0d9cfb60f  D'aww! He matches this background colour I'm s...      0   \n",
       "2  000113f07ec002fd  Hey man, I'm really not trying to edit war. It...      0   \n",
       "3  0001b41b1c6bb37e  \"\\nMore\\nI can't make any real suggestions on ...      0   \n",
       "4  0001d958c54c6e35  You, sir, are my hero. Any chance you remember...      0   \n",
       "\n",
       "   severe_toxic  obscene  threat  insult  identity_hate  \n",
       "0             0        0       0       0              0  \n",
       "1             0        0       0       0              0  \n",
       "2             0        0       0       0              0  \n",
       "3             0        0       0       0              0  \n",
       "4             0        0       0       0              0  "
      ]
     },
     "execution_count": 3,
     "metadata": {},
     "output_type": "execute_result"
    }
   ],
   "source": [
    "df_toxic.head()"
   ]
  },
  {
   "cell_type": "code",
   "execution_count": 4,
   "id": "5a4fd725",
   "metadata": {},
   "outputs": [
    {
     "data": {
      "text/plain": [
       "(159571, 8)"
      ]
     },
     "execution_count": 4,
     "metadata": {},
     "output_type": "execute_result"
    }
   ],
   "source": [
    "df_toxic.shape"
   ]
  },
  {
   "cell_type": "code",
   "execution_count": 5,
   "id": "3f78356e",
   "metadata": {},
   "outputs": [
    {
     "data": {
      "text/plain": [
       "not toxic        143346\n",
       "toxic             15294\n",
       "obscene            8449\n",
       "insult             7877\n",
       "severe_toxic       1595\n",
       "identity_hate      1405\n",
       "threat              478\n",
       "dtype: int64"
      ]
     },
     "execution_count": 5,
     "metadata": {},
     "output_type": "execute_result"
    }
   ],
   "source": [
    "df_toxic['not toxic'] = (df_toxic[['toxic', 'severe_toxic', 'obscene', 'threat',\n",
    "                                   'insult', 'identity_hate']].any(axis=1) + 1) % 2\n",
    "data_plot = df_toxic.drop(['comment_text', 'id'], axis=1).\\\n",
    "    sum().sort_values(ascending=False)\n",
    "data_plot  # Общее количество оценок по комментариям"
   ]
  },
  {
   "cell_type": "code",
   "execution_count": 6,
   "id": "dafa3fc7",
   "metadata": {},
   "outputs": [
    {
     "data": {
      "image/png": "[encoded data removed]",
      "text/plain": [
       "<Figure size 800x400 with 1 Axes>"
      ]
     },
     "metadata": {},
     "output_type": "display_data"
    }
   ],
   "source": [
    "ax = sns.barplot(x=data_plot.index, y=data_plot.values)\n",
    "ax.figure.set_size_inches(8, 4)\n",
    "ax.set(xlabel='Категории', ylabel='Количество комментариев')\n",
    "ax.bar_label(ax.containers[0])\n",
    "ax.set_ylim(0, 160000)\n",
    "ax.tick_params(axis='x', labelsize=9)"
   ]
  },
  {
   "attachments": {},
   "cell_type": "markdown",
   "id": "66f26770-8f33-4dec-887a-17cd969a4560",
   "metadata": {},
   "source": [
    "## Task 2"
   ]
  },
  {
   "attachments": {},
   "cell_type": "markdown",
   "id": "a32b334c-b71f-43f7-9634-26ee83f63f94",
   "metadata": {},
   "source": [
    "Используя библиотеку [nltk](https://www.nltk.org/) обработайте тексты комментариев: \n",
    "* Приведи текст к нижнему регистру и токенизируй\n",
    "* Оставь токены содержащие английского алфавита \n",
    "* Убери знаки препинания, цифры\n",
    "* Убери стоп-слова из библиотки nltk\n",
    "\n",
    "Выведи количество токенов для комментария с индексом `000103f0d9cfb60f`"
   ]
  },
  {
   "cell_type": "code",
   "execution_count": 7,
   "id": "d15048af-0b0e-4f3e-99c4-12c6ad865308",
   "metadata": {},
   "outputs": [],
   "source": [
    "#!pip install nltk"
   ]
  },
  {
   "cell_type": "code",
   "execution_count": 8,
   "id": "9e80a4fa",
   "metadata": {},
   "outputs": [],
   "source": [
    "import nltk\n",
    "from nltk.corpus import stopwords, words\n",
    "import re\n",
    "from nltk.tokenize import word_tokenize\n",
    "from tqdm.notebook import tqdm"
   ]
  },
  {
   "cell_type": "code",
   "execution_count": 9,
   "id": "5030d976",
   "metadata": {},
   "outputs": [
    {
     "name": "stderr",
     "output_type": "stream",
     "text": [
      "[nltk_data] Downloading package stopwords to ./nltk/...\n",
      "[nltk_data]   Package stopwords is already up-to-date!\n",
      "[nltk_data] Downloading package words to ./nltk/...\n",
      "[nltk_data]   Package words is already up-to-date!\n"
     ]
    }
   ],
   "source": [
    "nltk.download('stopwords', download_dir='./nltk/')\n",
    "nltk.download('words', download_dir='./nltk/')\n",
    "nltk.data.path.append('./nltk')"
   ]
  },
  {
   "cell_type": "code",
   "execution_count": 10,
   "id": "fd9c1590",
   "metadata": {},
   "outputs": [
    {
     "data": {
      "application/vnd.jupyter.widget-view+json": {
       "model_id": "23455965ae744f2baea24f0691acc4fd",
       "version_major": 2,
       "version_minor": 0
      },
      "text/plain": [
       "  0%|          | 0/159571 [00:00<?, ?it/s]"
      ]
     },
     "metadata": {},
     "output_type": "display_data"
    }
   ],
   "source": [
    "def normalize_tokens(text_list):\n",
    "    stop_words = stopwords.words('english')\n",
    "    normalized_text_list = []\n",
    "    with tqdm(total=len(text_list)) as pbar:\n",
    "        for text in text_list:\n",
    "            clean_text = [word for word in word_tokenize(text.lower(), language=\"english\")\n",
    "                          if word in re.findall('[a-z]+', word)]\n",
    "            clean_text = [\n",
    "                word for word in clean_text if word not in stop_words]\n",
    "            normalized_text_list.append(clean_text)\n",
    "            pbar.update(1)\n",
    "    return normalized_text_list\n",
    "\n",
    "\n",
    "df_toxic['tokens_list'] = normalize_tokens(df_toxic.comment_text)"
   ]
  },
  {
   "cell_type": "code",
   "execution_count": 11,
   "id": "9ca7a6a9",
   "metadata": {},
   "outputs": [
    {
     "name": "stdout",
     "output_type": "stream",
     "text": [
      "Количестов токенов: 9\n",
      "D'aww! He matches this background colour I'm seemingly stuck with. Thanks.  (talk) 21:51, January 11, 2016 (UTC)\n",
      "['matches', 'background', 'colour', 'seemingly', 'stuck', 'thanks', 'talk', 'january', 'utc']\n"
     ]
    }
   ],
   "source": [
    "print('Количестов токенов:', len(\n",
    "    *(df_toxic.tokens_list[df_toxic.id == '000103f0d9cfb60f'])))\n",
    "print(*df_toxic.comment_text[df_toxic.id == '000103f0d9cfb60f'])\n",
    "print(*df_toxic.tokens_list[df_toxic.id == '000103f0d9cfb60f'])"
   ]
  },
  {
   "attachments": {},
   "cell_type": "markdown",
   "id": "33c1178f-ed36-472b-b31b-b3479d8aecea",
   "metadata": {
    "tags": []
   },
   "source": [
    "## Task 3"
   ]
  },
  {
   "attachments": {},
   "cell_type": "markdown",
   "id": "2a8dcd9e-62cb-40bd-ba4c-42b991f88e19",
   "metadata": {},
   "source": [
    "Раздели выборку на тренировачную и тестовоую с параметрами `random_state=21, test_size=0.3, shuffle=True`\n",
    "Преобразуй тексты комментариев с помощью [TF-IDF](https://scikit-learn.org/stable/modules/generated/sklearn.feature_extraction.text.TfidfVectorizer.html) с количеством признаков равный 3000. \\\n",
    "Выведи размерность тренировачной выборки после преобразования текста."
   ]
  },
  {
   "cell_type": "code",
   "execution_count": 12,
   "id": "d24cd2ca-0156-4d27-a6b2-e082b45fca7b",
   "metadata": {},
   "outputs": [
    {
     "data": {
      "text/html": [
       "<div>\n",
       "<style scoped>\n",
       "    .dataframe tbody tr th:only-of-type {\n",
       "        vertical-align: middle;\n",
       "    }\n",
       "\n",
       "    .dataframe tbody tr th {\n",
       "        vertical-align: top;\n",
       "    }\n",
       "\n",
       "    .dataframe thead th {\n",
       "        text-align: right;\n",
       "    }\n",
       "</style>\n",
       "<table border=\"1\" class=\"dataframe\">\n",
       "  <thead>\n",
       "    <tr style=\"text-align: right;\">\n",
       "      <th></th>\n",
       "      <th>toxic</th>\n",
       "      <th>severe_toxic</th>\n",
       "      <th>obscene</th>\n",
       "      <th>threat</th>\n",
       "      <th>insult</th>\n",
       "      <th>identity_hate</th>\n",
       "      <th>not toxic</th>\n",
       "    </tr>\n",
       "  </thead>\n",
       "  <tbody>\n",
       "    <tr>\n",
       "      <th>0</th>\n",
       "      <td>0</td>\n",
       "      <td>0</td>\n",
       "      <td>0</td>\n",
       "      <td>0</td>\n",
       "      <td>0</td>\n",
       "      <td>0</td>\n",
       "      <td>1</td>\n",
       "    </tr>\n",
       "    <tr>\n",
       "      <th>1</th>\n",
       "      <td>0</td>\n",
       "      <td>0</td>\n",
       "      <td>0</td>\n",
       "      <td>0</td>\n",
       "      <td>0</td>\n",
       "      <td>0</td>\n",
       "      <td>1</td>\n",
       "    </tr>\n",
       "    <tr>\n",
       "      <th>2</th>\n",
       "      <td>0</td>\n",
       "      <td>0</td>\n",
       "      <td>0</td>\n",
       "      <td>0</td>\n",
       "      <td>0</td>\n",
       "      <td>0</td>\n",
       "      <td>1</td>\n",
       "    </tr>\n",
       "    <tr>\n",
       "      <th>3</th>\n",
       "      <td>0</td>\n",
       "      <td>0</td>\n",
       "      <td>0</td>\n",
       "      <td>0</td>\n",
       "      <td>0</td>\n",
       "      <td>0</td>\n",
       "      <td>1</td>\n",
       "    </tr>\n",
       "    <tr>\n",
       "      <th>4</th>\n",
       "      <td>0</td>\n",
       "      <td>0</td>\n",
       "      <td>0</td>\n",
       "      <td>0</td>\n",
       "      <td>0</td>\n",
       "      <td>0</td>\n",
       "      <td>1</td>\n",
       "    </tr>\n",
       "  </tbody>\n",
       "</table>\n",
       "</div>"
      ],
      "text/plain": [
       "   toxic  severe_toxic  obscene  threat  insult  identity_hate  not toxic\n",
       "0      0             0        0       0       0              0          1\n",
       "1      0             0        0       0       0              0          1\n",
       "2      0             0        0       0       0              0          1\n",
       "3      0             0        0       0       0              0          1\n",
       "4      0             0        0       0       0              0          1"
      ]
     },
     "execution_count": 12,
     "metadata": {},
     "output_type": "execute_result"
    }
   ],
   "source": [
    "df_toxic[['toxic', 'severe_toxic', 'obscene', 'threat',\n",
    "                                   'insult', 'identity_hate', 'not toxic']].head()"
   ]
  },
  {
   "cell_type": "code",
   "execution_count": 13,
   "id": "f4a122d0",
   "metadata": {},
   "outputs": [
    {
     "name": "stdout",
     "output_type": "stream",
     "text": [
      "Размерность тренировочной выборки после преобразования: (111699, 3000)\n"
     ]
    }
   ],
   "source": [
    "from sklearn.model_selection import train_test_split\n",
    "from sklearn.feature_extraction.text import TfidfVectorizer\n",
    "\n",
    "df_toxic['tokens_text'] = [' '.join(x) for x in df_toxic['tokens_list']]\n",
    "X_train, X_test, y_train, y_test = train_test_split(df_toxic['tokens_text'],\n",
    "                                                    df_toxic[['toxic', 'severe_toxic', 'obscene', 'threat',\n",
    "                                                              'insult', 'identity_hate', 'not toxic']],\n",
    "                                                    test_size=0.3, random_state=21, shuffle=True)\n",
    "vec = TfidfVectorizer(max_features=3000)\n",
    "X_train_matrix = vec.fit_transform(X_train)\n",
    "X_test_matrix = vec.transform(X_test)\n",
    "# X_train_matrix.shape, X_test_matrix.shape\n",
    "print('Размерность тренировочной выборки после преобразования:', X_train_matrix.shape)"
   ]
  },
  {
   "cell_type": "code",
   "execution_count": 14,
   "id": "cf9dec0b",
   "metadata": {},
   "outputs": [
    {
     "data": {
      "text/plain": [
       "{'analyzer': 'word',\n",
       " 'binary': False,\n",
       " 'decode_error': 'strict',\n",
       " 'dtype': numpy.float64,\n",
       " 'encoding': 'utf-8',\n",
       " 'input': 'content',\n",
       " 'lowercase': True,\n",
       " 'max_df': 1.0,\n",
       " 'max_features': 3000,\n",
       " 'min_df': 1,\n",
       " 'ngram_range': (1, 1),\n",
       " 'norm': 'l2',\n",
       " 'preprocessor': None,\n",
       " 'smooth_idf': True,\n",
       " 'stop_words': None,\n",
       " 'strip_accents': None,\n",
       " 'sublinear_tf': False,\n",
       " 'token_pattern': '(?u)\\\\b\\\\w\\\\w+\\\\b',\n",
       " 'tokenizer': None,\n",
       " 'use_idf': True,\n",
       " 'vocabulary': None}"
      ]
     },
     "execution_count": 14,
     "metadata": {},
     "output_type": "execute_result"
    }
   ],
   "source": [
    "vec.get_params()"
   ]
  },
  {
   "cell_type": "code",
   "execution_count": 15,
   "id": "0b666414",
   "metadata": {},
   "outputs": [
    {
     "data": {
      "text/plain": [
       "(array(['ability', 'able', 'absolute', ..., 'yourselfgo', 'youtube',\n",
       "        'zero'], dtype=object),\n",
       " 3000)"
      ]
     },
     "execution_count": 15,
     "metadata": {},
     "output_type": "execute_result"
    }
   ],
   "source": [
    "vec.get_feature_names_out(), len(vec.get_feature_names_out())"
   ]
  },
  {
   "cell_type": "code",
   "execution_count": 16,
   "id": "304da25e",
   "metadata": {},
   "outputs": [
    {
     "data": {
      "text/html": [
       "<div>\n",
       "<style scoped>\n",
       "    .dataframe tbody tr th:only-of-type {\n",
       "        vertical-align: middle;\n",
       "    }\n",
       "\n",
       "    .dataframe tbody tr th {\n",
       "        vertical-align: top;\n",
       "    }\n",
       "\n",
       "    .dataframe thead th {\n",
       "        text-align: right;\n",
       "    }\n",
       "</style>\n",
       "<table border=\"1\" class=\"dataframe\">\n",
       "  <thead>\n",
       "    <tr style=\"text-align: right;\">\n",
       "      <th></th>\n",
       "      <th>toxic</th>\n",
       "      <th>severe_toxic</th>\n",
       "      <th>obscene</th>\n",
       "      <th>threat</th>\n",
       "      <th>insult</th>\n",
       "      <th>identity_hate</th>\n",
       "      <th>not toxic</th>\n",
       "    </tr>\n",
       "  </thead>\n",
       "  <tbody>\n",
       "    <tr>\n",
       "      <th>45925</th>\n",
       "      <td>0</td>\n",
       "      <td>0</td>\n",
       "      <td>0</td>\n",
       "      <td>0</td>\n",
       "      <td>0</td>\n",
       "      <td>0</td>\n",
       "      <td>1</td>\n",
       "    </tr>\n",
       "    <tr>\n",
       "      <th>1242</th>\n",
       "      <td>0</td>\n",
       "      <td>0</td>\n",
       "      <td>0</td>\n",
       "      <td>0</td>\n",
       "      <td>0</td>\n",
       "      <td>0</td>\n",
       "      <td>1</td>\n",
       "    </tr>\n",
       "    <tr>\n",
       "      <th>105698</th>\n",
       "      <td>0</td>\n",
       "      <td>0</td>\n",
       "      <td>0</td>\n",
       "      <td>0</td>\n",
       "      <td>0</td>\n",
       "      <td>0</td>\n",
       "      <td>1</td>\n",
       "    </tr>\n",
       "    <tr>\n",
       "      <th>125591</th>\n",
       "      <td>0</td>\n",
       "      <td>0</td>\n",
       "      <td>0</td>\n",
       "      <td>0</td>\n",
       "      <td>0</td>\n",
       "      <td>0</td>\n",
       "      <td>1</td>\n",
       "    </tr>\n",
       "    <tr>\n",
       "      <th>13235</th>\n",
       "      <td>0</td>\n",
       "      <td>0</td>\n",
       "      <td>0</td>\n",
       "      <td>0</td>\n",
       "      <td>0</td>\n",
       "      <td>0</td>\n",
       "      <td>1</td>\n",
       "    </tr>\n",
       "    <tr>\n",
       "      <th>...</th>\n",
       "      <td>...</td>\n",
       "      <td>...</td>\n",
       "      <td>...</td>\n",
       "      <td>...</td>\n",
       "      <td>...</td>\n",
       "      <td>...</td>\n",
       "      <td>...</td>\n",
       "    </tr>\n",
       "    <tr>\n",
       "      <th>135478</th>\n",
       "      <td>0</td>\n",
       "      <td>0</td>\n",
       "      <td>0</td>\n",
       "      <td>0</td>\n",
       "      <td>0</td>\n",
       "      <td>0</td>\n",
       "      <td>1</td>\n",
       "    </tr>\n",
       "    <tr>\n",
       "      <th>65274</th>\n",
       "      <td>0</td>\n",
       "      <td>0</td>\n",
       "      <td>0</td>\n",
       "      <td>0</td>\n",
       "      <td>0</td>\n",
       "      <td>0</td>\n",
       "      <td>1</td>\n",
       "    </tr>\n",
       "    <tr>\n",
       "      <th>3062</th>\n",
       "      <td>0</td>\n",
       "      <td>0</td>\n",
       "      <td>0</td>\n",
       "      <td>0</td>\n",
       "      <td>0</td>\n",
       "      <td>0</td>\n",
       "      <td>1</td>\n",
       "    </tr>\n",
       "    <tr>\n",
       "      <th>155974</th>\n",
       "      <td>0</td>\n",
       "      <td>0</td>\n",
       "      <td>0</td>\n",
       "      <td>0</td>\n",
       "      <td>0</td>\n",
       "      <td>0</td>\n",
       "      <td>1</td>\n",
       "    </tr>\n",
       "    <tr>\n",
       "      <th>153660</th>\n",
       "      <td>0</td>\n",
       "      <td>0</td>\n",
       "      <td>0</td>\n",
       "      <td>0</td>\n",
       "      <td>0</td>\n",
       "      <td>0</td>\n",
       "      <td>1</td>\n",
       "    </tr>\n",
       "  </tbody>\n",
       "</table>\n",
       "<p>47872 rows × 7 columns</p>\n",
       "</div>"
      ],
      "text/plain": [
       "        toxic  severe_toxic  obscene  threat  insult  identity_hate  not toxic\n",
       "45925       0             0        0       0       0              0          1\n",
       "1242        0             0        0       0       0              0          1\n",
       "105698      0             0        0       0       0              0          1\n",
       "125591      0             0        0       0       0              0          1\n",
       "13235       0             0        0       0       0              0          1\n",
       "...       ...           ...      ...     ...     ...            ...        ...\n",
       "135478      0             0        0       0       0              0          1\n",
       "65274       0             0        0       0       0              0          1\n",
       "3062        0             0        0       0       0              0          1\n",
       "155974      0             0        0       0       0              0          1\n",
       "153660      0             0        0       0       0              0          1\n",
       "\n",
       "[47872 rows x 7 columns]"
      ]
     },
     "execution_count": 16,
     "metadata": {},
     "output_type": "execute_result"
    }
   ],
   "source": [
    "y_test"
   ]
  },
  {
   "cell_type": "code",
   "execution_count": 17,
   "id": "67ceef53",
   "metadata": {},
   "outputs": [
    {
     "data": {
      "text/plain": [
       "<111699x3000 sparse matrix of type '<class 'numpy.float64'>'\n",
       "\twith 2220752 stored elements in Compressed Sparse Row format>"
      ]
     },
     "execution_count": 17,
     "metadata": {},
     "output_type": "execute_result"
    }
   ],
   "source": [
    "X_train_matrix"
   ]
  },
  {
   "attachments": {},
   "cell_type": "markdown",
   "id": "510ab52e-2dc0-46b3-80b2-2f5a587593b5",
   "metadata": {},
   "source": [
    "## Task 4"
   ]
  },
  {
   "attachments": {},
   "cell_type": "markdown",
   "id": "a2408435-5ee0-42b4-97c2-32740925326b",
   "metadata": {},
   "source": [
    "Реши задачу [Multi-Label](https://scikit-learn.org/stable/modules/multiclass.html) классификации используя [RidgeClassifier](https://scikit-learn.org/stable/modules/generated/sklearn.linear_model.RidgeClassifier.html#sklearn.linear_model.RidgeClassifier).\n",
    "Посчитай значение ROC-AUC для тестовой выборки."
   ]
  },
  {
   "cell_type": "code",
   "execution_count": 18,
   "id": "ce606d69-4889-4aad-9cc9-67072b2044d0",
   "metadata": {},
   "outputs": [],
   "source": [
    "from sklearn.linear_model import RidgeClassifier\n",
    "from sklearn.multioutput import ClassifierChain\n",
    "from sklearn.metrics import classification_report\n",
    "from sklearn.metrics import roc_auc_score\n",
    "\n",
    "model = ClassifierChain(RidgeClassifier(\n",
    "    fit_intercept=False), cv=5, random_state=21)\n",
    "model = model.fit(X_train_matrix, y_train)\n",
    "y_pred = model.predict(X_test_matrix)"
   ]
  },
  {
   "cell_type": "code",
   "execution_count": 19,
   "id": "0e3e78c0",
   "metadata": {},
   "outputs": [
    {
     "data": {
      "text/plain": [
       "0.6893924493447925"
      ]
     },
     "execution_count": 19,
     "metadata": {},
     "output_type": "execute_result"
    }
   ],
   "source": [
    "y_pred = model.predict(X_test_matrix)\n",
    "ra = roc_auc_score(y_test, y_pred)\n",
    "ra"
   ]
  },
  {
   "attachments": {},
   "cell_type": "markdown",
   "id": "2dd5b405-447d-420c-9841-72f0eaf03742",
   "metadata": {},
   "source": [
    "## Task 5"
   ]
  },
  {
   "attachments": {},
   "cell_type": "markdown",
   "id": "2e8e7d65-26cf-4457-ae30-a59961fd02ca",
   "metadata": {},
   "source": [
    "Есть посмотреть на тексты токсичных комментариев, то можно заметить, что они могут повторять одни и те же слова. Или там чаще встречается `!` знаки. \\\n",
    "Кроме 'прямых' текстовых признаков, можно использоваться и эту статистику по тексту. Например, долю уникальных слов в тексте комментария или количество пунктуации в тексте.\n",
    "\n",
    "Придумай не меньше 4х признаков, которые могут помочь в обучении модели. Добавьте их к признакам TF-IDF и обучите модель. \n",
    "Получилось ли увеличить качество классификации?"
   ]
  },
  {
   "cell_type": "code",
   "execution_count": 20,
   "id": "895ab80f-6041-4e07-babd-bfb04275e911",
   "metadata": {},
   "outputs": [
    {
     "name": "stdout",
     "output_type": "stream",
     "text": [
      "               precision    recall  f1-score   support\n",
      "\n",
      "        toxic       0.57      0.84      0.68      3130\n",
      " severe_toxic       0.19      0.42      0.26       231\n",
      "      obscene       0.59      0.89      0.71      1714\n",
      "       threat       0.10      0.56      0.17        27\n",
      "       insult       0.49      0.78      0.60      1497\n",
      "identity_hate       0.15      0.61      0.24       106\n",
      "    not toxic       0.98      0.96      0.97     44031\n",
      "\n",
      "    micro avg       0.89      0.94      0.91     50736\n",
      "    macro avg       0.44      0.72      0.52     50736\n",
      " weighted avg       0.92      0.94      0.93     50736\n",
      "  samples avg       0.93      0.93      0.93     50736\n",
      "\n"
     ]
    },
    {
     "name": "stderr",
     "output_type": "stream",
     "text": [
      "/home/grayen/jupyter/venv/lib/python3.10/site-packages/sklearn/metrics/_classification.py:1344: UndefinedMetricWarning: Recall and F-score are ill-defined and being set to 0.0 in samples with no true labels. Use `zero_division` parameter to control this behavior.\n",
      "  _warn_prf(average, modifier, msg_start, len(result))\n"
     ]
    }
   ],
   "source": [
    "print(classification_report(y_pred, y_test, target_names=y_test.columns))"
   ]
  },
  {
   "cell_type": "code",
   "execution_count": 21,
   "id": "e034ca40",
   "metadata": {},
   "outputs": [
    {
     "data": {
      "application/vnd.jupyter.widget-view+json": {
       "model_id": "fa59334edef944938268c81fa1ed5a14",
       "version_major": 2,
       "version_minor": 0
      },
      "text/plain": [
       "  0%|          | 0/159571 [00:00<?, ?it/s]"
      ]
     },
     "metadata": {},
     "output_type": "display_data"
    }
   ],
   "source": [
    "# Новые признаки:\n",
    "# 1. Доля уникальных (не повторяющихся) токенов\n",
    "# 2. Доля символов в верхнем регистре\n",
    "# 3. Доля (наличие) в тексте \"seven dirty words\"\n",
    "# 4. Доля знаков пунктуации\n",
    "import string\n",
    "import numpy as np\n",
    "from scipy.sparse import hstack\n",
    "from scipy.sparse import csr_matrix\n",
    "\n",
    "\n",
    "def add_fut(df: pd.DataFrame, pbar: tqdm):\n",
    "    fut_train1, fut_train2, fut_train3, fut_train4 = [], [], [], []\n",
    "    for id in df.index:\n",
    "        lst1 = df[id].split()  # токены в список\n",
    "        set1 = set(lst1)           # множество уникальных токенов\n",
    "        text = df_toxic.loc[id].comment_text  # Исходный текст комментария\n",
    "        # Джордж Карлинг, 1972г, Семь слов, которые ни в коем случае нельзя произносить на телевидении\n",
    "        seven_dirty_words = ['cocksucker', 'cunt', 'fuck',\n",
    "                             'motherfucker', 'piss', 'shit', 'tits']\n",
    "\n",
    "        # 1. Доля уникальных (не повторяющихся) токенов\n",
    "        div = len(lst1)\n",
    "        fut_train1.append(\n",
    "            (len(set1) - len(set([i for i in lst1 if not i in set1 or set1.remove(i)]))) / div if div != 0 else 0)\n",
    "\n",
    "        # 2. Доля букв в верхнем регистре ко всем буквам\n",
    "        div = len(''.join(re.findall('[a-zA-Z]+', text)))\n",
    "        fut_train2.append(\n",
    "            len(''.join(re.findall('[A-Z]+', text))) / div if div != 0 else 0)\n",
    "\n",
    "        # 3. Доля (наличие) в тексте \"seven dirty words\"\n",
    "        div = len(set1)\n",
    "        fut_train3.append(\n",
    "            len(set(seven_dirty_words).intersection(set1)) / div if div != 0 else 0)\n",
    "\n",
    "        # 4. Доля знаков пунктуации\n",
    "        div = len(''.join(re.findall('[\\S]+', text)))\n",
    "        fut_train4.append(len(''.join(re.findall(\n",
    "            '['+string.punctuation+']+', text))) / div if div != 0 else 0)\n",
    "\n",
    "        pbar.update(1)\n",
    "    return csr_matrix(np.array([fut_train1, fut_train2, fut_train3, fut_train4]).T)\n",
    "\n",
    "\n",
    "pbar = tqdm(total=(len(X_train)+len(X_test)))\n",
    "new_fut_xtrain = add_fut(X_train, pbar)\n",
    "new_fut_xtest = add_fut(X_test, pbar)"
   ]
  },
  {
   "cell_type": "code",
   "execution_count": 22,
   "id": "67cc6544",
   "metadata": {},
   "outputs": [
    {
     "data": {
      "text/plain": [
       "(-0.010248830029373601, 0.6791436193154189)"
      ]
     },
     "execution_count": 22,
     "metadata": {},
     "output_type": "execute_result"
    }
   ],
   "source": [
    "X_train_matrix_new = hstack((X_train_matrix, new_fut_xtrain))\n",
    "X_test_matrix_new = hstack((X_test_matrix, new_fut_xtest))\n",
    "\n",
    "model_new = ClassifierChain(RidgeClassifier(\n",
    "    random_state=21, fit_intercept=False), cv=7, random_state=21)\n",
    "model_new = model_new.fit(X_train_matrix_new, y_train)\n",
    "y_pred_new = model_new.predict(X_test_matrix_new)\n",
    "ra1 = roc_auc_score(y_test, y_pred_new)\n",
    "ra1 - ra, ra1"
   ]
  },
  {
   "cell_type": "code",
   "execution_count": 23,
   "id": "5f9bdf74",
   "metadata": {},
   "outputs": [
    {
     "name": "stdout",
     "output_type": "stream",
     "text": [
      "               precision    recall  f1-score   support\n",
      "\n",
      "        toxic       0.53      0.91      0.67      2686\n",
      " severe_toxic       0.16      0.58      0.25       137\n",
      "      obscene       0.60      0.87      0.71      1783\n",
      "       threat       0.06      0.60      0.11        15\n",
      "       insult       0.54      0.76      0.63      1695\n",
      "identity_hate       0.13      0.73      0.22        77\n",
      "    not toxic       1.00      0.95      0.97     45139\n",
      "\n",
      "    micro avg       0.90      0.94      0.92     51532\n",
      "    macro avg       0.43      0.77      0.51     51532\n",
      " weighted avg       0.94      0.94      0.93     51532\n",
      "  samples avg       0.94      0.94      0.94     51532\n",
      "\n"
     ]
    },
    {
     "name": "stderr",
     "output_type": "stream",
     "text": [
      "/home/grayen/jupyter/venv/lib/python3.10/site-packages/sklearn/metrics/_classification.py:1344: UndefinedMetricWarning: Recall and F-score are ill-defined and being set to 0.0 in samples with no true labels. Use `zero_division` parameter to control this behavior.\n",
      "  _warn_prf(average, modifier, msg_start, len(result))\n"
     ]
    }
   ],
   "source": [
    "print(classification_report(y_pred_new, y_test, target_names=y_test.columns))"
   ]
  },
  {
   "cell_type": "code",
   "execution_count": 24,
   "id": "22db4802",
   "metadata": {},
   "outputs": [
    {
     "name": "stdout",
     "output_type": "stream",
     "text": [
      "               precision    recall  f1-score   support\n",
      "\n",
      "        toxic       0.57      0.84      0.68      3130\n",
      " severe_toxic       0.19      0.42      0.26       231\n",
      "      obscene       0.59      0.89      0.71      1714\n",
      "       threat       0.10      0.56      0.17        27\n",
      "       insult       0.49      0.78      0.60      1497\n",
      "identity_hate       0.15      0.61      0.24       106\n",
      "    not toxic       0.98      0.96      0.97     44031\n",
      "\n",
      "    micro avg       0.89      0.94      0.91     50736\n",
      "    macro avg       0.44      0.72      0.52     50736\n",
      " weighted avg       0.92      0.94      0.93     50736\n",
      "  samples avg       0.93      0.93      0.93     50736\n",
      "\n"
     ]
    },
    {
     "name": "stderr",
     "output_type": "stream",
     "text": [
      "/home/grayen/jupyter/venv/lib/python3.10/site-packages/sklearn/metrics/_classification.py:1344: UndefinedMetricWarning: Recall and F-score are ill-defined and being set to 0.0 in samples with no true labels. Use `zero_division` parameter to control this behavior.\n",
      "  _warn_prf(average, modifier, msg_start, len(result))\n"
     ]
    }
   ],
   "source": [
    "print(classification_report(y_pred, y_test, target_names=y_test.columns))"
   ]
  }
 ],
 "metadata": {
  "kernelspec": {
   "display_name": "Python 3 (ipykernel)",
   "language": "python",
   "name": "python3"
  },
  "language_info": {
   "codemirror_mode": {
    "name": "ipython",
    "version": 3
   },
   "file_extension": ".py",
   "mimetype": "text/x-python",
   "name": "python",
   "nbconvert_exporter": "python",
   "pygments_lexer": "ipython3",
   "version": "3.10.11"
  }
 },
 "nbformat": 4,
 "nbformat_minor": 5
}
