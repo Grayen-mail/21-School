{
 "cells": [
  {
   "attachments": {},
   "cell_type": "markdown",
   "metadata": {},
   "source": [
    "## 1. Создай соединение с базой данных с помощью библиотеки `sqlite3`."
   ]
  },
  {
   "cell_type": "code",
   "execution_count": 1,
   "metadata": {},
   "outputs": [
    {
     "data": {
      "text/plain": [
       "<sqlite3.Connection at 0x7fc1b432e440>"
      ]
     },
     "execution_count": 1,
     "metadata": {},
     "output_type": "execute_result"
    }
   ],
   "source": [
    "import sqlite3\n",
    "import pandas as pd\n",
    "\n",
    "\n",
    "sql_conn = sqlite3.connect('../../data/checking-logs.sqlite')\n",
    "sql_conn"
   ]
  },
  {
   "attachments": {},
   "cell_type": "markdown",
   "metadata": {},
   "source": [
    "## 2. Используя только **один** запрос для каждой из групп, создай два датафрейма: `test_results` и `control_results` со столбцами `time` и `avg_diff` и только двумя строками.\n",
    "- `times` должно иметь значения `before` и `after`.\n",
    "- `avg_diff` содержит среднее значение дельты для всех пользователей за период времени до первого посещения ленты новостей каждым из них и после этого.\n",
    "- Учитываются только те пользователи, для которых имеются наблюдения и `before`, и `after`."
   ]
  },
  {
   "cell_type": "code",
   "execution_count": 2,
   "metadata": {},
   "outputs": [],
   "source": [
    "test_result = pd.io.sql.read_sql('''\n",
    "SELECT 'before' as 'times', AVG(diff)\n",
    "FROM \n",
    "\t\t(SELECT uid, AVG(cast((JulianDay(test.first_commit_ts) - \n",
    "\t\tJulianDay(dl.deadlines, 'unixepoch'))*24 as integer)) AS diff \n",
    "\t\tFROM test \n",
    "\t\tLEFT JOIN deadlines as dl, \n",
    "\t\t\t(select uid as id, min(first_view_ts) as min_view\n",
    "\t\t\tfrom test\n",
    "\t\t\tgroup by uid) as min_view\n",
    "\t\tON test.labname = dl.labs AND test.uid = min_view.id \n",
    "\t\tWHERE test.labname IN ('laba04', 'laba04s', 'laba05', 'laba06',\n",
    "\t\t\t'laba06s') AND\n",
    "\t\t\ttest.first_commit_ts < min_view.min_view AND\n",
    "\t\t\ttest.uid IN\n",
    "\t\t\t\t(SELECT uid \n",
    "\t\t\t\tFROM test \n",
    "\t\t\t\tLEFT JOIN deadlines as dl, \n",
    "\t\t\t\t\t(select uid as id, min(first_view_ts) as min_view\n",
    "\t\t\t\t\tfrom test\n",
    "\t\t\t\t\tgroup by uid) as min_view\n",
    "\t\t\t\tON test.labname = dl.labs AND test.uid = min_view.id \n",
    "\t\t\t\tWHERE test.labname IN ('laba04', 'laba04s', 'laba05', 'laba06',\n",
    "\t\t\t\t\t'laba06s') AND\n",
    "\t\t\t\t\ttest.first_commit_ts > min_view.min_view\n",
    "\t\t\t\tGROUP BY uid)\n",
    "\t\tGROUP BY uid)\n",
    "UNION\n",
    "SELECT 'after' as 'times', AVG(diff )\n",
    "FROM \n",
    "\t\t(SELECT uid, AVG(cast((JulianDay(test.first_commit_ts) - \n",
    "\t\tJulianDay(dl.deadlines, 'unixepoch'))*24 as integer)) AS diff \n",
    "\t\tFROM test \n",
    "\t\tLEFT JOIN deadlines as dl, \n",
    "\t\t\t(select uid as id, min(first_view_ts) as min_view\n",
    "\t\t\tfrom test\n",
    "\t\t\tgroup by uid) as min_view\n",
    "\t\tON test.labname = dl.labs AND test.uid = min_view.id \n",
    "\t\tWHERE test.labname IN ('laba04', 'laba04s', 'laba05', 'laba06',\n",
    "\t\t\t'laba06s') AND\n",
    "\t\t\ttest.first_commit_ts > min_view.min_view AND \n",
    "\t\t\ttest.uid IN \n",
    "\t\t\t\t(SELECT uid \n",
    "\t\t\t\tFROM test \n",
    "\t\t\t\tLEFT JOIN deadlines as dl, \n",
    "\t\t\t\t\t(select uid as id, min(first_view_ts) as min_view\n",
    "\t\t\t\t\tfrom test\n",
    "\t\t\t\t\tgroup by uid) as min_view\n",
    "\t\t\t\tON test.labname = dl.labs AND test.uid = min_view.id \n",
    "\t\t\t\tWHERE test.labname IN ('laba04', 'laba04s', 'laba05', 'laba06',\n",
    "\t\t\t\t\t'laba06s') AND\n",
    "\t\t\t\t\ttest.first_commit_ts < min_view.min_view\n",
    "\t\t\t\tGROUP BY uid)\n",
    "\t\tGROUP BY uid)\n",
    "''', sql_conn)"
   ]
  },
  {
   "cell_type": "code",
   "execution_count": 3,
   "metadata": {},
   "outputs": [],
   "source": [
    "control_result = pd.io.sql.read_sql('''\n",
    "SELECT 'before' as 'times', AVG(diff)\n",
    "FROM \n",
    "\t\t(SELECT uid, AVG(cast((JulianDay(control.first_commit_ts) - \n",
    "\t\tJulianDay(dl.deadlines, 'unixepoch'))*24 as integer)) AS diff \n",
    "\t\tFROM control \n",
    "\t\tLEFT JOIN deadlines as dl, \n",
    "\t\t\t(select uid as id, min(first_view_ts) as min_view\n",
    "\t\t\tfrom control\n",
    "\t\t\tgroup by uid) as min_view\n",
    "\t\tON control.labname = dl.labs AND control.uid = min_view.id \n",
    "\t\tWHERE control.labname IN ('laba04', 'laba04s', 'laba05', 'laba06',\n",
    "\t\t\t'laba06s') AND\n",
    "\t\t\tcontrol.first_commit_ts < min_view.min_view AND\n",
    "\t\t\tcontrol.uid IN\n",
    "\t\t\t\t(SELECT uid \n",
    "\t\t\t\tFROM control \n",
    "\t\t\t\tLEFT JOIN deadlines as dl, \n",
    "\t\t\t\t\t(select uid as id, min(first_view_ts) as min_view\n",
    "\t\t\t\t\tfrom control\n",
    "\t\t\t\t\tgroup by uid) as min_view\n",
    "\t\t\t\tON control.labname = dl.labs AND control.uid = min_view.id \n",
    "\t\t\t\tWHERE control.labname IN ('laba04', 'laba04s', 'laba05', 'laba06',\n",
    "\t\t\t\t\t'laba06s') AND\n",
    "\t\t\t\t\tcontrol.first_commit_ts > min_view.min_view\n",
    "\t\t\t\tGROUP BY uid)\n",
    "\t\tGROUP BY uid)\n",
    "UNION\n",
    "SELECT 'after' as 'times', AVG(diff )\n",
    "FROM \n",
    "\t\t(SELECT uid, AVG(cast((JulianDay(control.first_commit_ts) - \n",
    "\t\tJulianDay(dl.deadlines, 'unixepoch'))*24 as integer)) AS diff \n",
    "\t\tFROM control \n",
    "\t\tLEFT JOIN deadlines as dl, \n",
    "\t\t\t(select uid as id, min(first_view_ts) as min_view\n",
    "\t\t\tfrom control\n",
    "\t\t\tgroup by uid) as min_view\n",
    "\t\tON control.labname = dl.labs AND control.uid = min_view.id \n",
    "\t\tWHERE control.labname IN ('laba04', 'laba04s', 'laba05', 'laba06',\n",
    "\t\t\t'laba06s') AND\n",
    "\t\t\tcontrol.first_commit_ts > min_view.min_view AND \n",
    "\t\t\tcontrol.uid IN \n",
    "\t\t\t\t(SELECT uid \n",
    "\t\t\t\tFROM control \n",
    "\t\t\t\tLEFT JOIN deadlines as dl, \n",
    "\t\t\t\t\t(select uid as id, min(first_view_ts) as min_view\n",
    "\t\t\t\t\tfrom control\n",
    "\t\t\t\t\tgroup by uid) as min_view\n",
    "\t\t\t\tON control.labname = dl.labs AND control.uid = min_view.id \n",
    "\t\t\t\tWHERE control.labname IN ('laba04', 'laba04s', 'laba05', 'laba06',\n",
    "\t\t\t\t\t'laba06s') AND\n",
    "\t\t\t\t\tcontrol.first_commit_ts < min_view.min_view\n",
    "\t\t\t\tGROUP BY uid)\n",
    "\t\tGROUP BY uid)\n",
    "''', sql_conn)"
   ]
  },
  {
   "cell_type": "code",
   "execution_count": 4,
   "metadata": {},
   "outputs": [
    {
     "data": {
      "text/html": [
       "<div>\n",
       "<style scoped>\n",
       "    .dataframe tbody tr th:only-of-type {\n",
       "        vertical-align: middle;\n",
       "    }\n",
       "\n",
       "    .dataframe tbody tr th {\n",
       "        vertical-align: top;\n",
       "    }\n",
       "\n",
       "    .dataframe thead th {\n",
       "        text-align: right;\n",
       "    }\n",
       "</style>\n",
       "<table border=\"1\" class=\"dataframe\">\n",
       "  <thead>\n",
       "    <tr style=\"text-align: right;\">\n",
       "      <th></th>\n",
       "      <th>times</th>\n",
       "      <th>AVG(diff)</th>\n",
       "    </tr>\n",
       "  </thead>\n",
       "  <tbody>\n",
       "    <tr>\n",
       "      <th>0</th>\n",
       "      <td>after</td>\n",
       "      <td>-99.523810</td>\n",
       "    </tr>\n",
       "    <tr>\n",
       "      <th>1</th>\n",
       "      <td>before</td>\n",
       "      <td>-66.047619</td>\n",
       "    </tr>\n",
       "  </tbody>\n",
       "</table>\n",
       "</div>"
      ],
      "text/plain": [
       "    times  AVG(diff)\n",
       "0   after -99.523810\n",
       "1  before -66.047619"
      ]
     },
     "execution_count": 4,
     "metadata": {},
     "output_type": "execute_result"
    }
   ],
   "source": [
    "test_result"
   ]
  },
  {
   "cell_type": "code",
   "execution_count": 5,
   "metadata": {},
   "outputs": [
    {
     "data": {
      "text/html": [
       "<div>\n",
       "<style scoped>\n",
       "    .dataframe tbody tr th:only-of-type {\n",
       "        vertical-align: middle;\n",
       "    }\n",
       "\n",
       "    .dataframe tbody tr th {\n",
       "        vertical-align: top;\n",
       "    }\n",
       "\n",
       "    .dataframe thead th {\n",
       "        text-align: right;\n",
       "    }\n",
       "</style>\n",
       "<table border=\"1\" class=\"dataframe\">\n",
       "  <thead>\n",
       "    <tr style=\"text-align: right;\">\n",
       "      <th></th>\n",
       "      <th>times</th>\n",
       "      <th>AVG(diff)</th>\n",
       "    </tr>\n",
       "  </thead>\n",
       "  <tbody>\n",
       "    <tr>\n",
       "      <th>0</th>\n",
       "      <td>after</td>\n",
       "      <td>-99.322222</td>\n",
       "    </tr>\n",
       "    <tr>\n",
       "      <th>1</th>\n",
       "      <td>before</td>\n",
       "      <td>-98.033333</td>\n",
       "    </tr>\n",
       "  </tbody>\n",
       "</table>\n",
       "</div>"
      ],
      "text/plain": [
       "    times  AVG(diff)\n",
       "0   after -99.322222\n",
       "1  before -98.033333"
      ]
     },
     "execution_count": 5,
     "metadata": {},
     "output_type": "execute_result"
    }
   ],
   "source": [
    "control_result"
   ]
  },
  {
   "attachments": {},
   "cell_type": "markdown",
   "metadata": {},
   "source": [
    "## 3. Мы по-прежнему не используем лабораторное задание 'project1'."
   ]
  },
  {
   "attachments": {},
   "cell_type": "markdown",
   "metadata": {},
   "source": [
    "## 4. Закрой соединение."
   ]
  },
  {
   "cell_type": "code",
   "execution_count": 6,
   "metadata": {},
   "outputs": [],
   "source": [
    "sql_conn.close()"
   ]
  },
  {
   "attachments": {},
   "cell_type": "markdown",
   "metadata": {},
   "source": [
    "## 5. Дайте ответ: оказалось ли предположение верным и влияет ли наличие страницы с новостной лентой на поведение учащихся?"
   ]
  },
  {
   "attachments": {},
   "cell_type": "markdown",
   "metadata": {},
   "source": [
    "Предположение верно, влияет."
   ]
  }
 ],
 "metadata": {
  "kernelspec": {
   "display_name": "venv",
   "language": "python",
   "name": "python3"
  },
  "language_info": {
   "codemirror_mode": {
    "name": "ipython",
    "version": 3
   },
   "file_extension": ".py",
   "mimetype": "text/x-python",
   "name": "python",
   "nbconvert_exporter": "python",
   "pygments_lexer": "ipython3",
   "version": "3.10.11"
  },
  "orig_nbformat": 4
 },
 "nbformat": 4,
 "nbformat_minor": 2
}
