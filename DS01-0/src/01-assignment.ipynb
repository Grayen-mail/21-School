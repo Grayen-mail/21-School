{
 "cells": [
  {
   "cell_type": "markdown",
   "id": "fffcbb2c-4423-4f1c-bc90-e1ac7fbaa456",
   "metadata": {},
   "source": [
    "# Задания "
   ]
  },
  {
   "cell_type": "markdown",
   "id": "c2d747fe-7b74-43e0-95b3-16525e9846ac",
   "metadata": {},
   "source": [
    "## Task 1"
   ]
  },
  {
   "cell_type": "markdown",
   "id": "2e2f1076-fd27-4222-95e9-d3b7ff8ff36a",
   "metadata": {},
   "source": [
    "Напиши код, который будет решать квадратное уравнение вида\n",
    "$ ax^2 + bx + c = 0, a\\neq0$. \\\n",
    "Для этого понадобится найти дискриминант. Его формула $ D = b^2 − 4ac $"
   ]
  },
  {
   "cell_type": "markdown",
   "id": "20bf557b-21f9-46fa-b8db-76b7a96526f4",
   "metadata": {},
   "source": [
    "Для начала напиши формулу нахождения корней квадратного уравнения на языке LaTeX\n",
    "\n",
    "Если D < 0, то уравнение не имеет корней, x = None\n",
    "\n",
    "Если D = 0, то уравнение имеет один корень, $ x = \\frac{-b}{2a} $\n",
    "\n",
    "Если D > 0, то уравнение имеет 2 корня $ x_1 = \\frac{(-b + \\sqrt{D})}{2a} $, \n",
    "$ x_2 = \\frac {-b - \\sqrt{D}}{2a} $\n"
   ]
  },
  {
   "cell_type": "markdown",
   "id": "c78b058d-777d-4369-b86d-0c0fc013eba9",
   "metadata": {},
   "source": [
    "Теперь, когда ты вспомнил как находить корни, приступай к написанию функции:\n",
    "- Функция принимает на вход коэффициент a, b, c.\n",
    "- Функция должна возвращать кортеж корней уравнения. \n",
    "- Если корней у уравнения нет, то функция должна вернуть None"
   ]
  },
  {
   "cell_type": "code",
   "execution_count": 44,
   "id": "03b8b371-870b-42cc-8f53-1e8596406894",
   "metadata": {},
   "outputs": [
    {
     "name": "stdout",
     "output_type": "stream",
     "text": [
      "[0.5, -2.0]\n",
      "[-1.0]\n",
      "None\n",
      "[0.0]\n"
     ]
    }
   ],
   "source": [
    "def quadratic_equation(a, b, c):\n",
    "# Находим дискриминант\n",
    "    d = b**2 - 4 * a * c\n",
    "    if d < 0:  # нет корней\n",
    "        return None\n",
    "# решение через кортежи     \n",
    "#    elif d == 0:  # один корень\n",
    "#        return ((-b) / (2 * a),)\n",
    "#    else:  # два корня\n",
    "#        # результат вернем в кортеже ()\n",
    "#        return ((-b + d**0.5) / (2 * a), (-b - d**0.5) / (2 * a))\n",
    "\n",
    "# решение через списки\n",
    "    elif d == 0:  # один корень\n",
    "        return [(-b) / (2 * a)]\n",
    "    else:  # два корня\n",
    "        # результат вернем в списке []\n",
    "        return [(-b + d**0.5) / (2 * a), (-b - d**0.5) / (2 * a)]\n",
    "\n",
    "print(quadratic_equation(2, 3, -2))\n",
    "print(quadratic_equation(2, 4, 2))\n",
    "print(quadratic_equation(2, 4, 3))\n",
    "print(quadratic_equation(1, 0, 0))"
   ]
  },
  {
   "cell_type": "markdown",
   "id": "a8541146-f127-4482-b067-279d50975dac",
   "metadata": {},
   "source": [
    "## Task 2"
   ]
  },
  {
   "cell_type": "markdown",
   "id": "816c48be-0963-4bd6-bd86-c8172eb8968e",
   "metadata": {},
   "source": [
    "Функция, которая на вход принимает cписок случайных чисел, а возвращает уже отсортированный методом Пузырька по возрастанию."
   ]
  },
  {
   "cell_type": "code",
   "execution_count": 45,
   "id": "3fbaf6b3-876f-4ecf-9be6-d26181ee3a48",
   "metadata": {},
   "outputs": [
    {
     "name": "stdout",
     "output_type": "stream",
     "text": [
      "[4, 13, 22, 26, 29, 39, 41, 46, 59, 63, 65, 76, 88, 92, 99]\n"
     ]
    }
   ],
   "source": [
    "import random\n",
    "\n",
    "def bubble_sort(lst):\n",
    "    len_lst = len(lst)\n",
    "    for i in range(len_lst - 1):\n",
    "        for j in range(len_lst - i - 1):\n",
    "            if lst[j] > lst[j+1]:\n",
    "                lst[j], lst[j+1] = lst[j+1], lst[j]\n",
    "    return lst\n",
    "\n",
    "numbers = random.sample(range(0, 100), 15)\n",
    "print(bubble_sort(numbers))"
   ]
  },
  {
   "cell_type": "markdown",
   "id": "0026496c-03a8-4fcc-907b-dfb8f3fc0efb",
   "metadata": {},
   "source": [
    "## Task 3"
   ]
  },
  {
   "cell_type": "markdown",
   "id": "688251be-39a3-49ed-9993-a5f9b39f430d",
   "metadata": {},
   "source": [
    "Самое часто встречающееся слово в романе \"Война и Мир\" без учета:\n",
    "   * Пунктуации\n",
    "   * Слов **короче четырех** символов \n",
    "   * 'Стоп-слов', которые приведены в файле в stop_words_russian.txt\n",
    "   \n",
    ">Для решения задачи достаточно использовать стандартные библиотеки Python. \\\n",
    "\n",
    ">Обязательно поделись с пирами в rocket-chat сколько раз у тебя встретилось это слово. Результаты, в зависимости от предобработки, могут чуть отличаться."
   ]
  },
  {
   "cell_type": "code",
   "execution_count": 46,
   "id": "94501d71-ee88-4f78-808d-20e79a5f3707",
   "metadata": {},
   "outputs": [
    {
     "name": "stdout",
     "output_type": "stream",
     "text": [
      "Пьер 1401\n"
     ]
    }
   ],
   "source": [
    "import string\n",
    "stop_words_dic = {}\n",
    "main_dic = {}\n",
    "with open('../datasets/stop_words_russian.txt', encoding='utf-8') as stop_file, \\\n",
    "     open('../datasets/war_and_peace.txt', encoding='utf-8') as main_file:\n",
    "    for word in stop_file:\n",
    "        word = word.rstrip()\n",
    "        if word not in stop_words_dic:\n",
    "            stop_words_dic[word] = 1\n",
    "\n",
    "    for line in main_file:\n",
    "        for word in line.translate(str.maketrans('', '', string.punctuation)).split():\n",
    "            if len(word) < 4 or word in stop_words_dic:\n",
    "                continue\n",
    "            if word not in main_dic:\n",
    "                main_dic[word] = 1\n",
    "            else:\n",
    "                main_dic[word] += 1\n",
    "l = list()\n",
    "for key, value in sorted(main_dic.items(), key = lambda x: x[1], reverse = True):\n",
    "    l.append([key, value])\n",
    "print(*l[0])"
   ]
  },
  {
   "cell_type": "markdown",
   "id": "d4b6f922-7a22-4b38-8529-c92994edd38c",
   "metadata": {},
   "source": [
    "## Task 4"
   ]
  },
  {
   "cell_type": "markdown",
   "id": "c2cef602-ab87-47f8-ab2c-e323442b62f7",
   "metadata": {},
   "source": [
    "Функция для расчета числа Фибоначчи с использованием рекурсивной функции."
   ]
  },
  {
   "cell_type": "code",
   "execution_count": 47,
   "id": "ec1c1860-774d-4583-a44b-bdc30492eead",
   "metadata": {},
   "outputs": [
    {
     "name": "stdout",
     "output_type": "stream",
     "text": [
      "55\n"
     ]
    }
   ],
   "source": [
    "def fib(n):\n",
    "    if n > 2:\n",
    "        return fib(n - 2) + fib(n - 1)\n",
    "    elif n > 0:\n",
    "        return 1\n",
    "    \n",
    "print(fib(10))"
   ]
  },
  {
   "cell_type": "markdown",
   "id": "1acc3069-4b1a-4a5c-98e4-055731203d2d",
   "metadata": {},
   "source": [
    "## Task 5"
   ]
  },
  {
   "cell_type": "markdown",
   "id": "944e804e-fb40-4ea2-b931-38b595d3c262",
   "metadata": {},
   "source": [
    "Функция перевода валюты в рубли."
   ]
  },
  {
   "cell_type": "code",
   "execution_count": 48,
   "id": "570cfb71-5cf0-41fc-aae7-cf2b2812eaca",
   "metadata": {},
   "outputs": [
    {
     "name": "stdout",
     "output_type": "stream",
     "text": [
      "900.3319999999999\n"
     ]
    }
   ],
   "source": [
    "import requests\n",
    "\n",
    "def convert2RU(currency, value):\n",
    "    req = requests.get('https://www.cbr-xml-daily.ru/daily_json.js').json()\n",
    "    if currency in req['Valute']:\n",
    "        return req['Valute'][currency]['Value'] * value\n",
    "\n",
    "print(convert2RU('EUR', 10))"
   ]
  },
  {
   "cell_type": "markdown",
   "id": "fe1396fa-7109-48ad-a255-4d4f622c18a4",
   "metadata": {},
   "source": [
    "## *Task 6. Дополнительное задание"
   ]
  },
  {
   "cell_type": "markdown",
   "id": "71315701-39bd-4759-afd9-7bf20486b4f7",
   "metadata": {},
   "source": [
    "Написание проверки на пaлиндром."
   ]
  },
  {
   "cell_type": "markdown",
   "id": "715fd45b-eb76-4eb5-bbd8-a257035fe892",
   "metadata": {},
   "source": [
    "1. На вход функции _isPalindrome_ подается **число** (int). \\\n",
    "Функция возвращает **True**, если число является палидромом и **False** в противном случае. "
   ]
  },
  {
   "cell_type": "code",
   "execution_count": 49,
   "id": "9f48d9c7-c413-47fb-b692-ce5ad8ed9ec1",
   "metadata": {},
   "outputs": [
    {
     "name": "stdout",
     "output_type": "stream",
     "text": [
      "True\n",
      "True\n",
      "False\n"
     ]
    }
   ],
   "source": [
    "def isPalindrome(x: int) -> bool:\n",
    "    s = str(x)\n",
    "    return s == s[::-1]\n",
    "    \n",
    "print(isPalindrome(123321))\n",
    "print(isPalindrome(1234321))\n",
    "print(isPalindrome(123123))"
   ]
  },
  {
   "cell_type": "markdown",
   "id": "e86f6f7c-c3b0-4b92-bb3d-651dcc7d4706",
   "metadata": {},
   "source": [
    "2. Реализация функции без использования перевода числа в строку."
   ]
  },
  {
   "cell_type": "code",
   "execution_count": 50,
   "id": "35cf92fa-04c6-489b-9523-99d78dce4ba1",
   "metadata": {},
   "outputs": [
    {
     "name": "stdout",
     "output_type": "stream",
     "text": [
      "True\n",
      "True\n",
      "False\n"
     ]
    }
   ],
   "source": [
    "def isPalindrome_v2(x: int) -> bool:\n",
    "    x1, temp, i, length = 0, x, 0, int(math.log10(x))\n",
    "    while temp > 0:\n",
    "        x1 += temp % 10 * 10 ** (length - i)\n",
    "        temp = temp // 10\n",
    "        i += 1\n",
    "    return x == x1    \n",
    "    \n",
    "print(isPalindrome(123321))\n",
    "print(isPalindrome(1234321))\n",
    "print(isPalindrome(123123))"
   ]
  },
  {
   "cell_type": "code",
   "execution_count": null,
   "id": "a4cb788e",
   "metadata": {},
   "outputs": [],
   "source": []
  }
 ],
 "metadata": {
  "kernelspec": {
   "display_name": "Python 3 (ipykernel)",
   "language": "python",
   "name": "python3"
  },
  "language_info": {
   "codemirror_mode": {
    "name": "ipython",
    "version": 3
   },
   "file_extension": ".py",
   "mimetype": "text/x-python",
   "name": "python",
   "nbconvert_exporter": "python",
   "pygments_lexer": "ipython3",
   "version": "3.10.11"
  }
 },
 "nbformat": 4,
 "nbformat_minor": 5
}
